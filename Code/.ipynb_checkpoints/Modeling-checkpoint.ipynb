{
 "cells": [
  {
   "cell_type": "markdown",
   "metadata": {},
   "source": [
    "# Binary classification model"
   ]
  },
  {
   "cell_type": "markdown",
   "metadata": {},
   "source": [
    "#### *Because I am building a model to predict whether a post comes from Tinder or Bumble, I will be using various classification models.*"
   ]
  },
  {
   "cell_type": "code",
   "execution_count": 337,
   "metadata": {},
   "outputs": [],
   "source": [
    "import requests\n",
    "import pandas as pd\n",
    "import seaborn as sns\n",
    "import numpy as np\n",
    "import matplotlib.pyplot as plt\n",
    "from sklearn.feature_extraction.text import CountVectorizer, TfidfVectorizer\n",
    "from sklearn.model_selection import train_test_split, GridSearchCV, cross_val_score\n",
    "from sklearn.pipeline import Pipeline\n",
    "from sklearn.naive_bayes import MultinomialNB\n",
    "from sklearn.linear_model import LogisticRegression\n",
    "from sklearn.metrics import confusion_matrix, plot_confusion_matrix\n",
    "from sklearn.neighbors import KNeighborsClassifier\n",
    "import nltk, re, string, collections\n",
    "from nltk.util import ngrams\n",
    "from sklearn.feature_extraction import text \n",
    "from sklearn.base import TransformerMixin\n",
    "from sklearn.ensemble import RandomForestClassifier, ExtraTreesClassifier\n",
    "from sklearn.svm import SVC\n",
    "from nltk.tokenize import sent_tokenize, word_tokenize, RegexpTokenizer\n",
    "from nltk.stem import WordNetLemmatizer"
   ]
  },
  {
   "cell_type": "markdown",
   "metadata": {},
   "source": [
    "## Read in CSV"
   ]
  },
  {
   "cell_type": "code",
   "execution_count": 334,
   "metadata": {},
   "outputs": [],
   "source": [
    "dating = pd.read_csv('dating.csv')"
   ]
  },
  {
   "cell_type": "code",
   "execution_count": 335,
   "metadata": {},
   "outputs": [
    {
     "data": {
      "text/html": [
       "<div>\n",
       "<style scoped>\n",
       "    .dataframe tbody tr th:only-of-type {\n",
       "        vertical-align: middle;\n",
       "    }\n",
       "\n",
       "    .dataframe tbody tr th {\n",
       "        vertical-align: top;\n",
       "    }\n",
       "\n",
       "    .dataframe thead th {\n",
       "        text-align: right;\n",
       "    }\n",
       "</style>\n",
       "<table border=\"1\" class=\"dataframe\">\n",
       "  <thead>\n",
       "    <tr style=\"text-align: right;\">\n",
       "      <th></th>\n",
       "      <th>subreddit</th>\n",
       "      <th>selftext</th>\n",
       "      <th>title</th>\n",
       "      <th>combined</th>\n",
       "      <th>text_word_count</th>\n",
       "    </tr>\n",
       "  </thead>\n",
       "  <tbody>\n",
       "    <tr>\n",
       "      <th>0</th>\n",
       "      <td>Bumble</td>\n",
       "      <td>Things that make me swipe left on you without ...</td>\n",
       "      <td>Things that will make me swipe left on you wit...</td>\n",
       "      <td>Things that make me swipe left on you without ...</td>\n",
       "      <td>212</td>\n",
       "    </tr>\n",
       "    <tr>\n",
       "      <th>1</th>\n",
       "      <td>Bumble</td>\n",
       "      <td>If you’ve hit it off with a girl on Bumble, wo...</td>\n",
       "      <td>Men: Do you ever intentionally wait a couple d...</td>\n",
       "      <td>If you’ve hit it off with a girl on Bumble, wo...</td>\n",
       "      <td>60</td>\n",
       "    </tr>\n",
       "    <tr>\n",
       "      <th>2</th>\n",
       "      <td>Bumble</td>\n",
       "      <td>I haven’t gotten a single match since I downlo...</td>\n",
       "      <td>Would love some profile help!</td>\n",
       "      <td>I haven’t gotten a single match since I downlo...</td>\n",
       "      <td>30</td>\n",
       "    </tr>\n",
       "    <tr>\n",
       "      <th>3</th>\n",
       "      <td>Bumble</td>\n",
       "      <td>NaN</td>\n",
       "      <td>When to sleep with a dude from bumble?</td>\n",
       "      <td>When to sleep with a dude from bumble?</td>\n",
       "      <td>8</td>\n",
       "    </tr>\n",
       "    <tr>\n",
       "      <th>4</th>\n",
       "      <td>Bumble</td>\n",
       "      <td>NaN</td>\n",
       "      <td>No butt stuff? No existence</td>\n",
       "      <td>No butt stuff? No existence</td>\n",
       "      <td>5</td>\n",
       "    </tr>\n",
       "  </tbody>\n",
       "</table>\n",
       "</div>"
      ],
      "text/plain": [
       "  subreddit                                           selftext  \\\n",
       "0    Bumble  Things that make me swipe left on you without ...   \n",
       "1    Bumble  If you’ve hit it off with a girl on Bumble, wo...   \n",
       "2    Bumble  I haven’t gotten a single match since I downlo...   \n",
       "3    Bumble                                                NaN   \n",
       "4    Bumble                                                NaN   \n",
       "\n",
       "                                               title  \\\n",
       "0  Things that will make me swipe left on you wit...   \n",
       "1  Men: Do you ever intentionally wait a couple d...   \n",
       "2                      Would love some profile help!   \n",
       "3             When to sleep with a dude from bumble?   \n",
       "4                        No butt stuff? No existence   \n",
       "\n",
       "                                            combined  text_word_count  \n",
       "0  Things that make me swipe left on you without ...              212  \n",
       "1  If you’ve hit it off with a girl on Bumble, wo...               60  \n",
       "2  I haven’t gotten a single match since I downlo...               30  \n",
       "3             When to sleep with a dude from bumble?                8  \n",
       "4                        No butt stuff? No existence                5  "
      ]
     },
     "execution_count": 335,
     "metadata": {},
     "output_type": "execute_result"
    }
   ],
   "source": [
    "dating.head()"
   ]
  },
  {
   "cell_type": "code",
   "execution_count": 336,
   "metadata": {},
   "outputs": [
    {
     "data": {
      "text/plain": [
       "Bumble    956\n",
       "Tinder    928\n",
       "Name: subreddit, dtype: int64"
      ]
     },
     "execution_count": 336,
     "metadata": {},
     "output_type": "execute_result"
    }
   ],
   "source": [
    "# Check balance of two classes. \n",
    "dating['subreddit'].value_counts()"
   ]
  },
  {
   "cell_type": "markdown",
   "metadata": {},
   "source": [
    "## Preprocessing: CountVectorizer w/ EDA"
   ]
  },
  {
   "cell_type": "code",
   "execution_count": 349,
   "metadata": {},
   "outputs": [],
   "source": [
    "tokenizer = RegexpTokenizer('\\w+|\\$[\\d\\.]+|\\S+')"
   ]
  },
  {
   "cell_type": "code",
   "execution_count": 350,
   "metadata": {},
   "outputs": [],
   "source": [
    "dating['combined'] = [tokenizer.tokenize(text) for text in dating['combined']]"
   ]
  },
  {
   "cell_type": "code",
   "execution_count": 351,
   "metadata": {},
   "outputs": [],
   "source": [
    "lemmatizer = WordNetLemmatizer()"
   ]
  },
  {
   "cell_type": "code",
   "execution_count": 352,
   "metadata": {},
   "outputs": [
    {
     "data": {
      "text/html": [
       "<div>\n",
       "<style scoped>\n",
       "    .dataframe tbody tr th:only-of-type {\n",
       "        vertical-align: middle;\n",
       "    }\n",
       "\n",
       "    .dataframe tbody tr th {\n",
       "        vertical-align: top;\n",
       "    }\n",
       "\n",
       "    .dataframe thead th {\n",
       "        text-align: right;\n",
       "    }\n",
       "</style>\n",
       "<table border=\"1\" class=\"dataframe\">\n",
       "  <thead>\n",
       "    <tr style=\"text-align: right;\">\n",
       "      <th></th>\n",
       "      <th>subreddit</th>\n",
       "      <th>selftext</th>\n",
       "      <th>title</th>\n",
       "      <th>combined</th>\n",
       "      <th>text_word_count</th>\n",
       "      <th>lem_text</th>\n",
       "    </tr>\n",
       "  </thead>\n",
       "  <tbody>\n",
       "    <tr>\n",
       "      <th>0</th>\n",
       "      <td>Bumble</td>\n",
       "      <td>Things that make me swipe left on you without ...</td>\n",
       "      <td>Things that will make me swipe left on you wit...</td>\n",
       "      <td>[Things, that, make, me, swipe, left, on, you,...</td>\n",
       "      <td>212</td>\n",
       "      <td>[Things, that, make, me, swipe, left, on, you,...</td>\n",
       "    </tr>\n",
       "    <tr>\n",
       "      <th>1</th>\n",
       "      <td>Bumble</td>\n",
       "      <td>If you’ve hit it off with a girl on Bumble, wo...</td>\n",
       "      <td>Men: Do you ever intentionally wait a couple d...</td>\n",
       "      <td>[If, you, ’ve, hit, it, off, with, a, girl, on...</td>\n",
       "      <td>60</td>\n",
       "      <td>[If, you, ’ve, hit, it, off, with, a, girl, on...</td>\n",
       "    </tr>\n",
       "    <tr>\n",
       "      <th>2</th>\n",
       "      <td>Bumble</td>\n",
       "      <td>I haven’t gotten a single match since I downlo...</td>\n",
       "      <td>Would love some profile help!</td>\n",
       "      <td>[I, haven, ’t, gotten, a, single, match, since...</td>\n",
       "      <td>30</td>\n",
       "      <td>[I, haven, ’t, gotten, a, single, match, since...</td>\n",
       "    </tr>\n",
       "    <tr>\n",
       "      <th>3</th>\n",
       "      <td>Bumble</td>\n",
       "      <td>NaN</td>\n",
       "      <td>When to sleep with a dude from bumble?</td>\n",
       "      <td>[When, to, sleep, with, a, dude, from, bumble, ?]</td>\n",
       "      <td>8</td>\n",
       "      <td>[When, to, sleep, with, a, dude, from, bumble, ?]</td>\n",
       "    </tr>\n",
       "    <tr>\n",
       "      <th>4</th>\n",
       "      <td>Bumble</td>\n",
       "      <td>NaN</td>\n",
       "      <td>No butt stuff? No existence</td>\n",
       "      <td>[No, butt, stuff, ?, No, existence]</td>\n",
       "      <td>5</td>\n",
       "      <td>[No, butt, stuff, ?, No, existence]</td>\n",
       "    </tr>\n",
       "  </tbody>\n",
       "</table>\n",
       "</div>"
      ],
      "text/plain": [
       "  subreddit                                           selftext  \\\n",
       "0    Bumble  Things that make me swipe left on you without ...   \n",
       "1    Bumble  If you’ve hit it off with a girl on Bumble, wo...   \n",
       "2    Bumble  I haven’t gotten a single match since I downlo...   \n",
       "3    Bumble                                                NaN   \n",
       "4    Bumble                                                NaN   \n",
       "\n",
       "                                               title  \\\n",
       "0  Things that will make me swipe left on you wit...   \n",
       "1  Men: Do you ever intentionally wait a couple d...   \n",
       "2                      Would love some profile help!   \n",
       "3             When to sleep with a dude from bumble?   \n",
       "4                        No butt stuff? No existence   \n",
       "\n",
       "                                            combined  text_word_count  \\\n",
       "0  [Things, that, make, me, swipe, left, on, you,...              212   \n",
       "1  [If, you, ’ve, hit, it, off, with, a, girl, on...               60   \n",
       "2  [I, haven, ’t, gotten, a, single, match, since...               30   \n",
       "3  [When, to, sleep, with, a, dude, from, bumble, ?]                8   \n",
       "4                [No, butt, stuff, ?, No, existence]                5   \n",
       "\n",
       "                                            lem_text  \n",
       "0  [Things, that, make, me, swipe, left, on, you,...  \n",
       "1  [If, you, ’ve, hit, it, off, with, a, girl, on...  \n",
       "2  [I, haven, ’t, gotten, a, single, match, since...  \n",
       "3  [When, to, sleep, with, a, dude, from, bumble, ?]  \n",
       "4                [No, butt, stuff, ?, No, existence]  "
      ]
     },
     "execution_count": 352,
     "metadata": {},
     "output_type": "execute_result"
    }
   ],
   "source": [
    "# Help from Nelli!\n",
    "# Lemmatize text\n",
    "dating['lem_text'] = [[lemmatizer.lemmatize(word) for word in text] for text in dating['combined']]\n",
    "dating.head()"
   ]
  },
  {
   "cell_type": "code",
   "execution_count": 353,
   "metadata": {},
   "outputs": [
    {
     "data": {
      "text/html": [
       "<div>\n",
       "<style scoped>\n",
       "    .dataframe tbody tr th:only-of-type {\n",
       "        vertical-align: middle;\n",
       "    }\n",
       "\n",
       "    .dataframe tbody tr th {\n",
       "        vertical-align: top;\n",
       "    }\n",
       "\n",
       "    .dataframe thead th {\n",
       "        text-align: right;\n",
       "    }\n",
       "</style>\n",
       "<table border=\"1\" class=\"dataframe\">\n",
       "  <thead>\n",
       "    <tr style=\"text-align: right;\">\n",
       "      <th></th>\n",
       "      <th>subreddit</th>\n",
       "      <th>selftext</th>\n",
       "      <th>title</th>\n",
       "      <th>combined</th>\n",
       "      <th>text_word_count</th>\n",
       "      <th>lem_text</th>\n",
       "    </tr>\n",
       "  </thead>\n",
       "  <tbody>\n",
       "    <tr>\n",
       "      <th>0</th>\n",
       "      <td>Bumble</td>\n",
       "      <td>Things that make me swipe left on you without ...</td>\n",
       "      <td>Things that will make me swipe left on you wit...</td>\n",
       "      <td>[Things, that, make, me, swipe, left, on, you,...</td>\n",
       "      <td>212</td>\n",
       "      <td>Things that make me swipe left on you without ...</td>\n",
       "    </tr>\n",
       "    <tr>\n",
       "      <th>1</th>\n",
       "      <td>Bumble</td>\n",
       "      <td>If you’ve hit it off with a girl on Bumble, wo...</td>\n",
       "      <td>Men: Do you ever intentionally wait a couple d...</td>\n",
       "      <td>[If, you, ’ve, hit, it, off, with, a, girl, on...</td>\n",
       "      <td>60</td>\n",
       "      <td>If you ’ve hit it off with a girl on Bumble , ...</td>\n",
       "    </tr>\n",
       "    <tr>\n",
       "      <th>2</th>\n",
       "      <td>Bumble</td>\n",
       "      <td>I haven’t gotten a single match since I downlo...</td>\n",
       "      <td>Would love some profile help!</td>\n",
       "      <td>[I, haven, ’t, gotten, a, single, match, since...</td>\n",
       "      <td>30</td>\n",
       "      <td>I haven ’t gotten a single match since I downl...</td>\n",
       "    </tr>\n",
       "    <tr>\n",
       "      <th>3</th>\n",
       "      <td>Bumble</td>\n",
       "      <td>NaN</td>\n",
       "      <td>When to sleep with a dude from bumble?</td>\n",
       "      <td>[When, to, sleep, with, a, dude, from, bumble, ?]</td>\n",
       "      <td>8</td>\n",
       "      <td>When to sleep with a dude from bumble ?</td>\n",
       "    </tr>\n",
       "    <tr>\n",
       "      <th>4</th>\n",
       "      <td>Bumble</td>\n",
       "      <td>NaN</td>\n",
       "      <td>No butt stuff? No existence</td>\n",
       "      <td>[No, butt, stuff, ?, No, existence]</td>\n",
       "      <td>5</td>\n",
       "      <td>No butt stuff ? No existence</td>\n",
       "    </tr>\n",
       "  </tbody>\n",
       "</table>\n",
       "</div>"
      ],
      "text/plain": [
       "  subreddit                                           selftext  \\\n",
       "0    Bumble  Things that make me swipe left on you without ...   \n",
       "1    Bumble  If you’ve hit it off with a girl on Bumble, wo...   \n",
       "2    Bumble  I haven’t gotten a single match since I downlo...   \n",
       "3    Bumble                                                NaN   \n",
       "4    Bumble                                                NaN   \n",
       "\n",
       "                                               title  \\\n",
       "0  Things that will make me swipe left on you wit...   \n",
       "1  Men: Do you ever intentionally wait a couple d...   \n",
       "2                      Would love some profile help!   \n",
       "3             When to sleep with a dude from bumble?   \n",
       "4                        No butt stuff? No existence   \n",
       "\n",
       "                                            combined  text_word_count  \\\n",
       "0  [Things, that, make, me, swipe, left, on, you,...              212   \n",
       "1  [If, you, ’ve, hit, it, off, with, a, girl, on...               60   \n",
       "2  [I, haven, ’t, gotten, a, single, match, since...               30   \n",
       "3  [When, to, sleep, with, a, dude, from, bumble, ?]                8   \n",
       "4                [No, butt, stuff, ?, No, existence]                5   \n",
       "\n",
       "                                            lem_text  \n",
       "0  Things that make me swipe left on you without ...  \n",
       "1  If you ’ve hit it off with a girl on Bumble , ...  \n",
       "2  I haven ’t gotten a single match since I downl...  \n",
       "3            When to sleep with a dude from bumble ?  \n",
       "4                       No butt stuff ? No existence  "
      ]
     },
     "execution_count": 353,
     "metadata": {},
     "output_type": "execute_result"
    }
   ],
   "source": [
    "# join lemmatized text together\n",
    "dating['lem_text'] = [' '.join(words) for words in dating['lem_text']]\n",
    "dating.head()"
   ]
  },
  {
   "cell_type": "code",
   "execution_count": 354,
   "metadata": {},
   "outputs": [
    {
     "data": {
      "text/html": [
       "<div>\n",
       "<style scoped>\n",
       "    .dataframe tbody tr th:only-of-type {\n",
       "        vertical-align: middle;\n",
       "    }\n",
       "\n",
       "    .dataframe tbody tr th {\n",
       "        vertical-align: top;\n",
       "    }\n",
       "\n",
       "    .dataframe thead th {\n",
       "        text-align: right;\n",
       "    }\n",
       "</style>\n",
       "<table border=\"1\" class=\"dataframe\">\n",
       "  <thead>\n",
       "    <tr style=\"text-align: right;\">\n",
       "      <th></th>\n",
       "      <th>subreddit</th>\n",
       "      <th>selftext</th>\n",
       "      <th>title</th>\n",
       "      <th>combined</th>\n",
       "      <th>text_word_count</th>\n",
       "      <th>lem_text</th>\n",
       "    </tr>\n",
       "  </thead>\n",
       "  <tbody>\n",
       "    <tr>\n",
       "      <th>0</th>\n",
       "      <td>0</td>\n",
       "      <td>Things that make me swipe left on you without ...</td>\n",
       "      <td>Things that will make me swipe left on you wit...</td>\n",
       "      <td>[Things, that, make, me, swipe, left, on, you,...</td>\n",
       "      <td>212</td>\n",
       "      <td>Things that make me swipe left on you without ...</td>\n",
       "    </tr>\n",
       "    <tr>\n",
       "      <th>1</th>\n",
       "      <td>0</td>\n",
       "      <td>If you’ve hit it off with a girl on Bumble, wo...</td>\n",
       "      <td>Men: Do you ever intentionally wait a couple d...</td>\n",
       "      <td>[If, you, ’ve, hit, it, off, with, a, girl, on...</td>\n",
       "      <td>60</td>\n",
       "      <td>If you ’ve hit it off with a girl on Bumble , ...</td>\n",
       "    </tr>\n",
       "    <tr>\n",
       "      <th>2</th>\n",
       "      <td>0</td>\n",
       "      <td>I haven’t gotten a single match since I downlo...</td>\n",
       "      <td>Would love some profile help!</td>\n",
       "      <td>[I, haven, ’t, gotten, a, single, match, since...</td>\n",
       "      <td>30</td>\n",
       "      <td>I haven ’t gotten a single match since I downl...</td>\n",
       "    </tr>\n",
       "    <tr>\n",
       "      <th>3</th>\n",
       "      <td>0</td>\n",
       "      <td>NaN</td>\n",
       "      <td>When to sleep with a dude from bumble?</td>\n",
       "      <td>[When, to, sleep, with, a, dude, from, bumble, ?]</td>\n",
       "      <td>8</td>\n",
       "      <td>When to sleep with a dude from bumble ?</td>\n",
       "    </tr>\n",
       "    <tr>\n",
       "      <th>4</th>\n",
       "      <td>0</td>\n",
       "      <td>NaN</td>\n",
       "      <td>No butt stuff? No existence</td>\n",
       "      <td>[No, butt, stuff, ?, No, existence]</td>\n",
       "      <td>5</td>\n",
       "      <td>No butt stuff ? No existence</td>\n",
       "    </tr>\n",
       "  </tbody>\n",
       "</table>\n",
       "</div>"
      ],
      "text/plain": [
       "   subreddit                                           selftext  \\\n",
       "0          0  Things that make me swipe left on you without ...   \n",
       "1          0  If you’ve hit it off with a girl on Bumble, wo...   \n",
       "2          0  I haven’t gotten a single match since I downlo...   \n",
       "3          0                                                NaN   \n",
       "4          0                                                NaN   \n",
       "\n",
       "                                               title  \\\n",
       "0  Things that will make me swipe left on you wit...   \n",
       "1  Men: Do you ever intentionally wait a couple d...   \n",
       "2                      Would love some profile help!   \n",
       "3             When to sleep with a dude from bumble?   \n",
       "4                        No butt stuff? No existence   \n",
       "\n",
       "                                            combined  text_word_count  \\\n",
       "0  [Things, that, make, me, swipe, left, on, you,...              212   \n",
       "1  [If, you, ’ve, hit, it, off, with, a, girl, on...               60   \n",
       "2  [I, haven, ’t, gotten, a, single, match, since...               30   \n",
       "3  [When, to, sleep, with, a, dude, from, bumble, ?]                8   \n",
       "4                [No, butt, stuff, ?, No, existence]                5   \n",
       "\n",
       "                                            lem_text  \n",
       "0  Things that make me swipe left on you without ...  \n",
       "1  If you ’ve hit it off with a girl on Bumble , ...  \n",
       "2  I haven ’t gotten a single match since I downl...  \n",
       "3            When to sleep with a dude from bumble ?  \n",
       "4                       No butt stuff ? No existence  "
      ]
     },
     "execution_count": 354,
     "metadata": {},
     "output_type": "execute_result"
    }
   ],
   "source": [
    "# Convert Bumble and Tinder to binary labels\n",
    "dating['subreddit'] = dating['subreddit'].map({'Bumble':0, 'Tinder': 1})\n",
    "dating.head()"
   ]
  },
  {
   "cell_type": "code",
   "execution_count": 192,
   "metadata": {},
   "outputs": [],
   "source": [
    "# Define X and y\n",
    "X = dating['combined']\n",
    "y = dating['subreddit']"
   ]
  },
  {
   "cell_type": "code",
   "execution_count": 193,
   "metadata": {},
   "outputs": [],
   "source": [
    "# Instantiate countvectorizer\n",
    "cvec = CountVectorizer()"
   ]
  },
  {
   "cell_type": "code",
   "execution_count": 322,
   "metadata": {},
   "outputs": [
    {
     "data": {
      "text/plain": [
       "pandas.core.series.Series"
      ]
     },
     "execution_count": 322,
     "metadata": {},
     "output_type": "execute_result"
    }
   ],
   "source": [
    "type(X)"
   ]
  },
  {
   "cell_type": "code",
   "execution_count": 195,
   "metadata": {},
   "outputs": [],
   "source": [
    "# Fit/transform X\n",
    "X_t = cvec.fit_transform(X)\n",
    "X_t = X_t.toarray()"
   ]
  },
  {
   "cell_type": "code",
   "execution_count": 196,
   "metadata": {},
   "outputs": [],
   "source": [
    "# Turn countvectorized words into dataframe\n",
    "cvec_df = pd.DataFrame(X_t, columns = cvec.get_feature_names())"
   ]
  },
  {
   "cell_type": "code",
   "execution_count": 197,
   "metadata": {},
   "outputs": [
    {
     "data": {
      "text/html": [
       "<div>\n",
       "<style scoped>\n",
       "    .dataframe tbody tr th:only-of-type {\n",
       "        vertical-align: middle;\n",
       "    }\n",
       "\n",
       "    .dataframe tbody tr th {\n",
       "        vertical-align: top;\n",
       "    }\n",
       "\n",
       "    .dataframe thead th {\n",
       "        text-align: right;\n",
       "    }\n",
       "</style>\n",
       "<table border=\"1\" class=\"dataframe\">\n",
       "  <thead>\n",
       "    <tr style=\"text-align: right;\">\n",
       "      <th></th>\n",
       "      <th>00</th>\n",
       "      <th>000</th>\n",
       "      <th>00pm</th>\n",
       "      <th>02</th>\n",
       "      <th>0x2fwbi</th>\n",
       "      <th>10</th>\n",
       "      <th>100</th>\n",
       "      <th>100th</th>\n",
       "      <th>101</th>\n",
       "      <th>1050</th>\n",
       "      <th>...</th>\n",
       "      <th>yup</th>\n",
       "      <th>yuy</th>\n",
       "      <th>zareklamy</th>\n",
       "      <th>zero</th>\n",
       "      <th>zip</th>\n",
       "      <th>zone</th>\n",
       "      <th>zookeeper</th>\n",
       "      <th>zoom</th>\n",
       "      <th>zoomed</th>\n",
       "      <th>zrjvcc7</th>\n",
       "    </tr>\n",
       "  </thead>\n",
       "  <tbody>\n",
       "    <tr>\n",
       "      <th>0</th>\n",
       "      <td>0</td>\n",
       "      <td>0</td>\n",
       "      <td>0</td>\n",
       "      <td>0</td>\n",
       "      <td>0</td>\n",
       "      <td>0</td>\n",
       "      <td>0</td>\n",
       "      <td>0</td>\n",
       "      <td>0</td>\n",
       "      <td>0</td>\n",
       "      <td>...</td>\n",
       "      <td>0</td>\n",
       "      <td>0</td>\n",
       "      <td>0</td>\n",
       "      <td>0</td>\n",
       "      <td>0</td>\n",
       "      <td>0</td>\n",
       "      <td>0</td>\n",
       "      <td>0</td>\n",
       "      <td>0</td>\n",
       "      <td>1</td>\n",
       "    </tr>\n",
       "    <tr>\n",
       "      <th>1</th>\n",
       "      <td>0</td>\n",
       "      <td>0</td>\n",
       "      <td>0</td>\n",
       "      <td>0</td>\n",
       "      <td>0</td>\n",
       "      <td>0</td>\n",
       "      <td>0</td>\n",
       "      <td>0</td>\n",
       "      <td>0</td>\n",
       "      <td>0</td>\n",
       "      <td>...</td>\n",
       "      <td>0</td>\n",
       "      <td>0</td>\n",
       "      <td>0</td>\n",
       "      <td>0</td>\n",
       "      <td>0</td>\n",
       "      <td>0</td>\n",
       "      <td>0</td>\n",
       "      <td>0</td>\n",
       "      <td>0</td>\n",
       "      <td>0</td>\n",
       "    </tr>\n",
       "    <tr>\n",
       "      <th>2</th>\n",
       "      <td>0</td>\n",
       "      <td>0</td>\n",
       "      <td>0</td>\n",
       "      <td>0</td>\n",
       "      <td>0</td>\n",
       "      <td>0</td>\n",
       "      <td>0</td>\n",
       "      <td>0</td>\n",
       "      <td>0</td>\n",
       "      <td>0</td>\n",
       "      <td>...</td>\n",
       "      <td>0</td>\n",
       "      <td>0</td>\n",
       "      <td>0</td>\n",
       "      <td>0</td>\n",
       "      <td>0</td>\n",
       "      <td>0</td>\n",
       "      <td>0</td>\n",
       "      <td>0</td>\n",
       "      <td>0</td>\n",
       "      <td>0</td>\n",
       "    </tr>\n",
       "    <tr>\n",
       "      <th>3</th>\n",
       "      <td>0</td>\n",
       "      <td>0</td>\n",
       "      <td>0</td>\n",
       "      <td>0</td>\n",
       "      <td>0</td>\n",
       "      <td>0</td>\n",
       "      <td>0</td>\n",
       "      <td>0</td>\n",
       "      <td>0</td>\n",
       "      <td>0</td>\n",
       "      <td>...</td>\n",
       "      <td>0</td>\n",
       "      <td>0</td>\n",
       "      <td>0</td>\n",
       "      <td>0</td>\n",
       "      <td>0</td>\n",
       "      <td>0</td>\n",
       "      <td>0</td>\n",
       "      <td>0</td>\n",
       "      <td>0</td>\n",
       "      <td>0</td>\n",
       "    </tr>\n",
       "    <tr>\n",
       "      <th>4</th>\n",
       "      <td>0</td>\n",
       "      <td>0</td>\n",
       "      <td>0</td>\n",
       "      <td>0</td>\n",
       "      <td>0</td>\n",
       "      <td>0</td>\n",
       "      <td>0</td>\n",
       "      <td>0</td>\n",
       "      <td>0</td>\n",
       "      <td>0</td>\n",
       "      <td>...</td>\n",
       "      <td>0</td>\n",
       "      <td>0</td>\n",
       "      <td>0</td>\n",
       "      <td>0</td>\n",
       "      <td>0</td>\n",
       "      <td>0</td>\n",
       "      <td>0</td>\n",
       "      <td>0</td>\n",
       "      <td>0</td>\n",
       "      <td>0</td>\n",
       "    </tr>\n",
       "  </tbody>\n",
       "</table>\n",
       "<p>5 rows × 5361 columns</p>\n",
       "</div>"
      ],
      "text/plain": [
       "   00  000  00pm  02  0x2fwbi  10  100  100th  101  1050  ...  yup  yuy  \\\n",
       "0   0    0     0   0        0   0    0      0    0     0  ...    0    0   \n",
       "1   0    0     0   0        0   0    0      0    0     0  ...    0    0   \n",
       "2   0    0     0   0        0   0    0      0    0     0  ...    0    0   \n",
       "3   0    0     0   0        0   0    0      0    0     0  ...    0    0   \n",
       "4   0    0     0   0        0   0    0      0    0     0  ...    0    0   \n",
       "\n",
       "   zareklamy  zero  zip  zone  zookeeper  zoom  zoomed  zrjvcc7  \n",
       "0          0     0    0     0          0     0       0        1  \n",
       "1          0     0    0     0          0     0       0        0  \n",
       "2          0     0    0     0          0     0       0        0  \n",
       "3          0     0    0     0          0     0       0        0  \n",
       "4          0     0    0     0          0     0       0        0  \n",
       "\n",
       "[5 rows x 5361 columns]"
      ]
     },
     "execution_count": 197,
     "metadata": {},
     "output_type": "execute_result"
    }
   ],
   "source": [
    "cvec_df.head()"
   ]
  },
  {
   "cell_type": "markdown",
   "metadata": {},
   "source": [
    "### Remove stop words"
   ]
  },
  {
   "cell_type": "code",
   "execution_count": 327,
   "metadata": {},
   "outputs": [],
   "source": [
    "X1 = dating['combined']\n",
    "y1 = dating['subreddit']"
   ]
  },
  {
   "cell_type": "code",
   "execution_count": 328,
   "metadata": {},
   "outputs": [],
   "source": [
    "# Potential list to include in stop words\n",
    "words_list = ['tinder', 'bumble', 'https', 'reddit', 'www', 'just', 've',\n",
    "             'feel', 'like', 'com', 'jfe', 'ca', 'mailto', 'flava']"
   ]
  },
  {
   "cell_type": "markdown",
   "metadata": {},
   "source": [
    "*I updated this list a couple of times based on if I thought the words were too revealing (tinder/bumble), irrelevant (https, reddit, www), or too ubitquitous without relevancy (just).*"
   ]
  },
  {
   "cell_type": "code",
   "execution_count": 331,
   "metadata": {},
   "outputs": [],
   "source": [
    "# Instantiate countvecorizer with english stop words and words list\n",
    "cv = CountVectorizer(stop_words = text.ENGLISH_STOP_WORDS.union(words_list), ngram_range = (1,2))"
   ]
  },
  {
   "cell_type": "code",
   "execution_count": 332,
   "metadata": {},
   "outputs": [],
   "source": [
    "X1 = cv.fit_transform(X1)"
   ]
  },
  {
   "cell_type": "code",
   "execution_count": 202,
   "metadata": {},
   "outputs": [],
   "source": [
    "X1 = X1.toarray()"
   ]
  },
  {
   "cell_type": "code",
   "execution_count": 203,
   "metadata": {},
   "outputs": [],
   "source": [
    "cv_df = pd.DataFrame(X1, columns = cv.get_feature_names())"
   ]
  },
  {
   "cell_type": "code",
   "execution_count": 204,
   "metadata": {},
   "outputs": [],
   "source": [
    "cv_df['subreddit'] = y1"
   ]
  },
  {
   "cell_type": "code",
   "execution_count": 205,
   "metadata": {},
   "outputs": [
    {
     "data": {
      "text/plain": [
       "0    956\n",
       "1    928\n",
       "Name: subreddit, dtype: int64"
      ]
     },
     "execution_count": 205,
     "metadata": {},
     "output_type": "execute_result"
    }
   ],
   "source": [
    "cv_df['subreddit'].value_counts()"
   ]
  },
  {
   "cell_type": "markdown",
   "metadata": {},
   "source": [
    "### Find most common words for each subreddit"
   ]
  },
  {
   "cell_type": "code",
   "execution_count": 206,
   "metadata": {},
   "outputs": [
    {
     "data": {
      "text/plain": [
       "subreddit    928\n",
       "don          273\n",
       "matches      237\n",
       "people       234\n",
       "profile      226\n",
       "time         208\n",
       "really       188\n",
       "match        184\n",
       "know         183\n",
       "got          178\n",
       "right        178\n",
       "app          175\n",
       "guys         175\n",
       "date         169\n",
       "guy          168\n",
       "dating       161\n",
       "think        158\n",
       "want         147\n",
       "good         141\n",
       "girl         136\n",
       "dtype: int64"
      ]
     },
     "execution_count": 206,
     "metadata": {},
     "output_type": "execute_result"
    }
   ],
   "source": [
    "# From the whole dataframe\n",
    "common_words1 = cv_df.sum().sort_values(ascending=False).head(20)\n",
    "common_words1"
   ]
  },
  {
   "cell_type": "code",
   "execution_count": 207,
   "metadata": {},
   "outputs": [
    {
     "data": {
      "text/plain": [
       "don        198\n",
       "people     165\n",
       "profile    165\n",
       "matches    165\n",
       "time       161\n",
       "date       143\n",
       "guys       141\n",
       "really     141\n",
       "dating     137\n",
       "guy        132\n",
       "know       130\n",
       "match      129\n",
       "app        128\n",
       "right      124\n",
       "got        107\n",
       "want       106\n",
       "good        98\n",
       "girl        97\n",
       "women       94\n",
       "think       90\n",
       "dtype: int64"
      ]
     },
     "execution_count": 207,
     "metadata": {},
     "output_type": "execute_result"
    }
   ],
   "source": [
    "# Find top 20 most common words for bumble\n",
    "com_bumble = cv_df.loc[cv_df['subreddit'] == 0].sum().sort_values(ascending=False).head(20)\n",
    "com_bumble"
   ]
  },
  {
   "cell_type": "code",
   "execution_count": 208,
   "metadata": {},
   "outputs": [
    {
     "data": {
      "text/plain": [
       "subreddit    928\n",
       "don           75\n",
       "matches       72\n",
       "got           71\n",
       "people        69\n",
       "think         68\n",
       "account       61\n",
       "profile       61\n",
       "bio           56\n",
       "match         55\n",
       "new           55\n",
       "right         54\n",
       "know          53\n",
       "said          50\n",
       "likes         49\n",
       "app           47\n",
       "really        47\n",
       "time          47\n",
       "banned        46\n",
       "good          43\n",
       "dtype: int64"
      ]
     },
     "execution_count": 208,
     "metadata": {},
     "output_type": "execute_result"
    }
   ],
   "source": [
    "# Find top 20 most common words for tinder\n",
    "com_tinder = cv_df.loc[cv_df['subreddit'] == 1].sum().sort_values(ascending=False).head(20)\n",
    "com_tinder"
   ]
  },
  {
   "cell_type": "code",
   "execution_count": 209,
   "metadata": {},
   "outputs": [
    {
     "data": {
      "text/html": [
       "<div>\n",
       "<style scoped>\n",
       "    .dataframe tbody tr th:only-of-type {\n",
       "        vertical-align: middle;\n",
       "    }\n",
       "\n",
       "    .dataframe tbody tr th {\n",
       "        vertical-align: top;\n",
       "    }\n",
       "\n",
       "    .dataframe thead th {\n",
       "        text-align: right;\n",
       "    }\n",
       "</style>\n",
       "<table border=\"1\" class=\"dataframe\">\n",
       "  <thead>\n",
       "    <tr style=\"text-align: right;\">\n",
       "      <th></th>\n",
       "      <th>subreddit</th>\n",
       "      <th>selftext</th>\n",
       "      <th>title</th>\n",
       "      <th>combined</th>\n",
       "      <th>text_word_count</th>\n",
       "    </tr>\n",
       "  </thead>\n",
       "  <tbody>\n",
       "    <tr>\n",
       "      <th>166</th>\n",
       "      <td>0</td>\n",
       "      <td>Which prompts did you answer? Which do you enj...</td>\n",
       "      <td>Favorite Profile Prompts</td>\n",
       "      <td>Which prompts did you answer? Which do you enj...</td>\n",
       "      <td>24</td>\n",
       "    </tr>\n",
       "    <tr>\n",
       "      <th>652</th>\n",
       "      <td>0</td>\n",
       "      <td>Hi! I have been on this subreddit quite a bit ...</td>\n",
       "      <td>[18F] My Take on Bumble and Tips to the Men Ou...</td>\n",
       "      <td>Hi! I have been on this subreddit quite a bit ...</td>\n",
       "      <td>684</td>\n",
       "    </tr>\n",
       "    <tr>\n",
       "      <th>685</th>\n",
       "      <td>0</td>\n",
       "      <td>I've let quite a few matches I was really inte...</td>\n",
       "      <td>Is it uncool to extend?</td>\n",
       "      <td>I've let quite a few matches I was really inte...</td>\n",
       "      <td>141</td>\n",
       "    </tr>\n",
       "    <tr>\n",
       "      <th>739</th>\n",
       "      <td>0</td>\n",
       "      <td>So I'm moving back to the city in a few months...</td>\n",
       "      <td>Do girls actually take Bumble seriously and no...</td>\n",
       "      <td>So I'm moving back to the city in a few months...</td>\n",
       "      <td>130</td>\n",
       "    </tr>\n",
       "    <tr>\n",
       "      <th>747</th>\n",
       "      <td>0</td>\n",
       "      <td>I've (38F) not been doing OLD as long as some ...</td>\n",
       "      <td>Date unmatched hours before meet up. Yikes.</td>\n",
       "      <td>I've (38F) not been doing OLD as long as some ...</td>\n",
       "      <td>243</td>\n",
       "    </tr>\n",
       "    <tr>\n",
       "      <th>993</th>\n",
       "      <td>1</td>\n",
       "      <td>This happened on Coffee meets Bagel which is a...</td>\n",
       "      <td>Super bummed out and I don’t know what to do...</td>\n",
       "      <td>This happened on Coffee meets Bagel which is a...</td>\n",
       "      <td>133</td>\n",
       "    </tr>\n",
       "    <tr>\n",
       "      <th>1295</th>\n",
       "      <td>1</td>\n",
       "      <td>Hey everyone\\n\\nI'm new to Tinder, so I'm sorr...</td>\n",
       "      <td>[General Question] Left Swipes</td>\n",
       "      <td>Hey everyone\\n\\nI'm new to Tinder, so I'm sorr...</td>\n",
       "      <td>54</td>\n",
       "    </tr>\n",
       "    <tr>\n",
       "      <th>1370</th>\n",
       "      <td>1</td>\n",
       "      <td>So I’ve been talking to this girl for the past...</td>\n",
       "      <td>Am I standing my ground or just being a jerk?</td>\n",
       "      <td>So I’ve been talking to this girl for the past...</td>\n",
       "      <td>303</td>\n",
       "    </tr>\n",
       "    <tr>\n",
       "      <th>1523</th>\n",
       "      <td>1</td>\n",
       "      <td>Matched with this girl I went to high school w...</td>\n",
       "      <td>How do I make a move?</td>\n",
       "      <td>Matched with this girl I went to high school w...</td>\n",
       "      <td>164</td>\n",
       "    </tr>\n",
       "    <tr>\n",
       "      <th>1601</th>\n",
       "      <td>1</td>\n",
       "      <td>NaN</td>\n",
       "      <td>saw this on another subreddit and thought it b...</td>\n",
       "      <td>saw this on another subreddit and thought it ...</td>\n",
       "      <td>0</td>\n",
       "    </tr>\n",
       "  </tbody>\n",
       "</table>\n",
       "</div>"
      ],
      "text/plain": [
       "      subreddit                                           selftext  \\\n",
       "166           0  Which prompts did you answer? Which do you enj...   \n",
       "652           0  Hi! I have been on this subreddit quite a bit ...   \n",
       "685           0  I've let quite a few matches I was really inte...   \n",
       "739           0  So I'm moving back to the city in a few months...   \n",
       "747           0  I've (38F) not been doing OLD as long as some ...   \n",
       "993           1  This happened on Coffee meets Bagel which is a...   \n",
       "1295          1  Hey everyone\\n\\nI'm new to Tinder, so I'm sorr...   \n",
       "1370          1  So I’ve been talking to this girl for the past...   \n",
       "1523          1  Matched with this girl I went to high school w...   \n",
       "1601          1                                                NaN   \n",
       "\n",
       "                                                  title  \\\n",
       "166                            Favorite Profile Prompts   \n",
       "652   [18F] My Take on Bumble and Tips to the Men Ou...   \n",
       "685                             Is it uncool to extend?   \n",
       "739   Do girls actually take Bumble seriously and no...   \n",
       "747         Date unmatched hours before meet up. Yikes.   \n",
       "993     Super bummed out and I don’t know what to do...   \n",
       "1295                     [General Question] Left Swipes   \n",
       "1370      Am I standing my ground or just being a jerk?   \n",
       "1523                              How do I make a move?   \n",
       "1601  saw this on another subreddit and thought it b...   \n",
       "\n",
       "                                               combined  text_word_count  \n",
       "166   Which prompts did you answer? Which do you enj...               24  \n",
       "652   Hi! I have been on this subreddit quite a bit ...              684  \n",
       "685   I've let quite a few matches I was really inte...              141  \n",
       "739   So I'm moving back to the city in a few months...              130  \n",
       "747   I've (38F) not been doing OLD as long as some ...              243  \n",
       "993   This happened on Coffee meets Bagel which is a...              133  \n",
       "1295  Hey everyone\\n\\nI'm new to Tinder, so I'm sorr...               54  \n",
       "1370  So I’ve been talking to this girl for the past...              303  \n",
       "1523  Matched with this girl I went to high school w...              164  \n",
       "1601   saw this on another subreddit and thought it ...                0  "
      ]
     },
     "execution_count": 209,
     "metadata": {},
     "output_type": "execute_result"
    }
   ],
   "source": [
    "# Why do so many have \"subreddit\" in them?\n",
    "dating[dating['combined'].str.contains('subreddit')]"
   ]
  },
  {
   "cell_type": "markdown",
   "metadata": {},
   "source": [
    "**Interpretation: From what I can tell, people reference either the subreddit they are in or other subreddits so I don't think I should add subreddit to my list of stop words.**"
   ]
  },
  {
   "cell_type": "markdown",
   "metadata": {},
   "source": [
    "### Find most common bigrams and trigrams"
   ]
  },
  {
   "cell_type": "code",
   "execution_count": 210,
   "metadata": {},
   "outputs": [],
   "source": [
    "# vectorize with n-gram range being (2,3) instead of (1,1)\n",
    "covec = CountVectorizer(stop_words = text.ENGLISH_STOP_WORDS.union(words_list), ngram_range = (2,3))"
   ]
  },
  {
   "cell_type": "code",
   "execution_count": 211,
   "metadata": {},
   "outputs": [],
   "source": [
    "X_covec = covec.fit_transform(dating['combined'])"
   ]
  },
  {
   "cell_type": "code",
   "execution_count": 212,
   "metadata": {},
   "outputs": [],
   "source": [
    "X_covec = X_covec.toarray()"
   ]
  },
  {
   "cell_type": "code",
   "execution_count": 213,
   "metadata": {},
   "outputs": [],
   "source": [
    "covec_df = pd.DataFrame(X_covec, columns = covec.get_feature_names())"
   ]
  },
  {
   "cell_type": "code",
   "execution_count": 214,
   "metadata": {},
   "outputs": [
    {
     "data": {
      "text/plain": [
       "0    956\n",
       "1    928\n",
       "Name: subreddit, dtype: int64"
      ]
     },
     "execution_count": 214,
     "metadata": {},
     "output_type": "execute_result"
    }
   ],
   "source": [
    "# add target column\n",
    "covec_df['subreddit'] = y1\n",
    "# make sure df is mostly equal\n",
    "covec_df['subreddit'].value_counts()"
   ]
  },
  {
   "cell_type": "code",
   "execution_count": 215,
   "metadata": {},
   "outputs": [
    {
     "data": {
      "text/plain": [
       "['adds facebook', 'adjust filters', 'admirer bug']"
      ]
     },
     "execution_count": 215,
     "metadata": {},
     "output_type": "execute_result"
    }
   ],
   "source": [
    "bigrams = [column for column in covec_df.columns if len(column.split()) == 2]\n",
    "bigrams[700:703]"
   ]
  },
  {
   "cell_type": "code",
   "execution_count": 216,
   "metadata": {},
   "outputs": [
    {
     "data": {
      "text/plain": [
       "['add shirtless picture', 'add snap got', 'add superlike feature']"
      ]
     },
     "execution_count": 216,
     "metadata": {},
     "output_type": "execute_result"
    }
   ],
   "source": [
    "trigrams = [column for column in covec_df.columns if len(column.split()) == 3]\n",
    "trigrams[700:703]"
   ]
  },
  {
   "cell_type": "code",
   "execution_count": 217,
   "metadata": {},
   "outputs": [
    {
     "data": {
      "text/plain": [
       "don know           43\n",
       "swipe right        41\n",
       "swiped right       39\n",
       "online dating      36\n",
       "don want           33\n",
       "getting matches    27\n",
       "swipe left         20\n",
       "poll poll          20\n",
       "view poll          20\n",
       "dating apps        19\n",
       "weeks ago          18\n",
       "new account        16\n",
       "couple days        16\n",
       "dating app         16\n",
       "days ago           16\n",
       "swiping right      15\n",
       "years ago          15\n",
       "bio said           14\n",
       "matched girl       14\n",
       "red flag           14\n",
       "dtype: int64"
      ]
     },
     "execution_count": 217,
     "metadata": {},
     "output_type": "execute_result"
    }
   ],
   "source": [
    "# Top bigrams of the whole df \n",
    "covec_df[bigrams].sum().sort_values(ascending=False).head(20)"
   ]
  },
  {
   "cell_type": "code",
   "execution_count": 218,
   "metadata": {},
   "outputs": [],
   "source": [
    "# Get df of just bumble subreddits\n",
    "bumble_covec_df = covec_df.loc[covec_df['subreddit'] == 0]\n",
    "# Find top 20 bigrams of bumble\n",
    "bumble_bigrams = bumble_covec_df[bigrams].sum().sort_values(ascending=False).head(20)\n",
    "# Find top 20 trigrams of bumble\n",
    "bumble_trigrams = bumble_covec_df[trigrams].sum().sort_values(ascending=False).head(20)"
   ]
  },
  {
   "cell_type": "code",
   "execution_count": 219,
   "metadata": {},
   "outputs": [],
   "source": [
    "# Get df of just tinder subreddits\n",
    "tinder_covec_df = covec_df.loc[covec_df['subreddit'] == 1]\n",
    "# Find top 20 bigrams of tinder\n",
    "tinder_bigrams = tinder_covec_df[bigrams].sum().sort_values(ascending=False).head(20)\n",
    "# Find top 20 trigrams of tinder\n",
    "tinder_trigrams = tinder_covec_df[trigrams].sum().sort_values(ascending=False).head(20)"
   ]
  },
  {
   "cell_type": "code",
   "execution_count": 220,
   "metadata": {},
   "outputs": [
    {
     "name": "stdout",
     "output_type": "stream",
     "text": [
      "swiped right       32\n",
      "online dating      31\n",
      "swipe right        28\n",
      "don know           27\n",
      "don want           25\n",
      "getting matches    21\n",
      "swipe left         15\n",
      "dating app         15\n",
      "dating apps        15\n",
      "weeks ago          12\n",
      "couple days        12\n",
      "days ago           11\n",
      "date mode          11\n",
      "red flag           11\n",
      "matched guy        11\n",
      "does mean          11\n",
      "don really         10\n",
      "poll poll          10\n",
      "really want        10\n",
      "swiping right      10\n",
      "dtype: int64\n",
      "don know           16\n",
      "swipe right        13\n",
      "bio said           12\n",
      "view poll          10\n",
      "new account        10\n",
      "poll poll          10\n",
      "got banned         10\n",
      "phone number        8\n",
      "don want            8\n",
      "shadow banned       8\n",
      "swiped right        7\n",
      "banned reason       6\n",
      "need help           6\n",
      "don think           6\n",
      "pick line           6\n",
      "latin america       6\n",
      "getting matches     6\n",
      "weeks ago           6\n",
      "new match           6\n",
      "new matches         6\n",
      "dtype: int64\n"
     ]
    }
   ],
   "source": [
    "print(bumble_bigrams)\n",
    "print(tinder_bigrams)"
   ]
  },
  {
   "cell_type": "code",
   "execution_count": 221,
   "metadata": {},
   "outputs": [
    {
     "name": "stdout",
     "output_type": "stream",
     "text": [
      "view poll poll                10\n",
      "new online dating              8\n",
      "long story short               5\n",
      "don know happened              4\n",
      "couple days ago                4\n",
      "mental health condition        4\n",
      "online dating scene            4\n",
      "4ormypeople 2020 11            4\n",
      "chat existing matches          3\n",
      "getting matches fine           3\n",
      "long distance relationship     3\n",
      "getting lot matches            3\n",
      "really want know               3\n",
      "mean swiped right              3\n",
      "disabled date mode             3\n",
      "wanted talk phone              3\n",
      "don really want                3\n",
      "meet new people                3\n",
      "met quality guys               3\n",
      "don know need                  3\n",
      "dtype: int64\n",
      "view poll poll             10\n",
      "removed view poll           5\n",
      "think think did             4\n",
      "mexico latin america        3\n",
      "totally naked looking       3\n",
      "meet fuck hard              3\n",
      "guys meet fuck              3\n",
      "couple days ago             3\n",
      "average looking guy         3\n",
      "got new matches             3\n",
      "naked looking guys          3\n",
      "hard add kik                3\n",
      "looking guys meet           3\n",
      "fuck hard add               3\n",
      "home lied twice             2\n",
      "messages whats shortly      2\n",
      "information legal right     2\n",
      "does link work              2\n",
      "bio said love               2\n",
      "add baby asap               2\n",
      "dtype: int64\n"
     ]
    }
   ],
   "source": [
    "print(bumble_trigrams)\n",
    "print(tinder_trigrams)"
   ]
  },
  {
   "cell_type": "markdown",
   "metadata": {},
   "source": [
    "### Graph the results"
   ]
  },
  {
   "cell_type": "code",
   "execution_count": 278,
   "metadata": {},
   "outputs": [
    {
     "data": {
      "image/png": "[encoded data removed]",
      "text/plain": [
       "<Figure size 720x576 with 1 Axes>"
      ]
     },
     "metadata": {
      "needs_background": "light"
     },
     "output_type": "display_data"
    }
   ],
   "source": [
    "b_plot = com_bumble.plot(kind = 'barh', color = '#FFCB37', figsize = (10,8))\n",
    "b_plot.set_xlabel('Count', weight='bold', size=12)\n",
    "b_plot.set_ylabel('Words', weight='bold', size=12)\n",
    "b_plot.set_title('Bumble Top 20 Words', weight='bold', size=14)\n",
    "plt.savefig('./images/Bumble_Top_20_Words.png', dpi=300, bbox_inches='tight');"
   ]
  },
  {
   "cell_type": "code",
   "execution_count": 279,
   "metadata": {},
   "outputs": [
    {
     "data": {
      "image/png": "[encoded data removed]",
      "text/plain": [
       "<Figure size 720x576 with 1 Axes>"
      ]
     },
     "metadata": {
      "needs_background": "light"
     },
     "output_type": "display_data"
    }
   ],
   "source": [
    "bb_plot = bumble_bigrams.plot(kind = 'barh', color = '#FFCB37', figsize = (10,8))\n",
    "bb_plot.set_xlabel('Count', weight='bold', size=12)\n",
    "bb_plot.set_ylabel('Words', weight='bold', size=12)\n",
    "bb_plot.set_title('Bumble Top 20 Bigrams ', weight='bold', size=14)\n",
    "plt.savefig('./images/Bumble_Top_20_Bigrams.png', dpi=300, bbox_inches='tight');"
   ]
  },
  {
   "cell_type": "code",
   "execution_count": 280,
   "metadata": {},
   "outputs": [
    {
     "data": {
      "image/png": "[encoded data removed]",
      "text/plain": [
       "<Figure size 720x576 with 1 Axes>"
      ]
     },
     "metadata": {
      "needs_background": "light"
     },
     "output_type": "display_data"
    }
   ],
   "source": [
    "bt_plot = bumble_trigrams.plot(kind = 'barh', color = '#FFCB37', figsize = (10,8))\n",
    "bt_plot.set_xlabel('Count', weight='bold', size=12)\n",
    "bt_plot.set_ylabel('Words', weight='bold', size=12)\n",
    "bt_plot.set_title('Bumble Top 20 Trigrams', weight='bold', size=14)\n",
    "plt.savefig('./images/Bumble_Top_20_Trigrams.png', dpi=300, bbox_inches='tight');"
   ]
  },
  {
   "cell_type": "code",
   "execution_count": 281,
   "metadata": {},
   "outputs": [
    {
     "data": {
      "image/png": "[encoded data removed]",
      "text/plain": [
       "<Figure size 720x576 with 1 Axes>"
      ]
     },
     "metadata": {
      "needs_background": "light"
     },
     "output_type": "display_data"
    }
   ],
   "source": [
    "t_plot = com_tinder.plot(kind = 'barh', color = '#FE3C72', figsize = (10,8))\n",
    "t_plot.set_xlabel('Count', weight='bold', size=12)\n",
    "t_plot.set_ylabel('Words', weight='bold', size=12)\n",
    "t_plot.set_title('Tinder Top 20 Words ', weight='bold', size=14)\n",
    "plt.savefig('./images/Tinder_Top_20_Words.png', dpi=300, bbox_inches='tight');"
   ]
  },
  {
   "cell_type": "code",
   "execution_count": 282,
   "metadata": {},
   "outputs": [
    {
     "data": {
      "image/png": "[encoded data removed]",
      "text/plain": [
       "<Figure size 720x576 with 1 Axes>"
      ]
     },
     "metadata": {
      "needs_background": "light"
     },
     "output_type": "display_data"
    }
   ],
   "source": [
    "tb_plot = tinder_bigrams.plot(kind = 'barh', color = '#FE3C72', figsize = (10,8))\n",
    "tb_plot.set_xlabel('Count', weight='bold', size=12)\n",
    "tb_plot.set_ylabel('Words', weight='bold', size=12)\n",
    "tb_plot.set_title('Tinder Top 20 Bigrams', weight='bold', size=14)\n",
    "plt.savefig('./images/Tinder_Top_20_Bigrams.png', dpi=300, bbox_inches='tight');"
   ]
  },
  {
   "cell_type": "code",
   "execution_count": 305,
   "metadata": {},
   "outputs": [
    {
     "data": {
      "image/png": "[encoded data removed]",
      "text/plain": [
       "<Figure size 720x576 with 1 Axes>"
      ]
     },
     "metadata": {
      "needs_background": "light"
     },
     "output_type": "display_data"
    }
   ],
   "source": [
    "tt_plot = tinder_trigrams.plot(kind = 'barh', color = '#FE3C72', figsize = (10,8))\n",
    "tt_plot.set_xlabel('Count', weight='bold', size=12)\n",
    "tt_plot.set_ylabel('Words', weight='bold', size=12)\n",
    "tt_plot.set_title('Tinder Top 20 Trigrams ', weight='bold', size=14)\n",
    "plt.savefig('./images/Tinder_Top_20_Trigrams.png', dpi=300, bbox_inches='tight');"
   ]
  },
  {
   "cell_type": "markdown",
   "metadata": {},
   "source": [
    "## Baseline Accuracy"
   ]
  },
  {
   "cell_type": "code",
   "execution_count": 229,
   "metadata": {},
   "outputs": [],
   "source": [
    "X_train, X_test, y_train, y_test = train_test_split(X, y, test_size=0.3, stratify = y, random_state= 42)"
   ]
  },
  {
   "cell_type": "code",
   "execution_count": 230,
   "metadata": {},
   "outputs": [
    {
     "data": {
      "text/plain": [
       "0    0.507067\n",
       "1    0.492933\n",
       "Name: subreddit, dtype: float64"
      ]
     },
     "execution_count": 230,
     "metadata": {},
     "output_type": "execute_result"
    }
   ],
   "source": [
    "y_test.value_counts(normalize=True)"
   ]
  },
  {
   "cell_type": "markdown",
   "metadata": {},
   "source": [
    "**Interpretation: Right now the baseline accuracy is about 50/50. My goal is to make a model that is a better predictor than 50/50.**"
   ]
  },
  {
   "cell_type": "markdown",
   "metadata": {},
   "source": [
    "## Modeling"
   ]
  },
  {
   "cell_type": "markdown",
   "metadata": {},
   "source": [
    "*For each of these models I used my words_list as stop words as I thought they would interfere with predictions.*"
   ]
  },
  {
   "cell_type": "markdown",
   "metadata": {},
   "source": [
    "### Create a transformer"
   ]
  },
  {
   "cell_type": "code",
   "execution_count": 90,
   "metadata": {},
   "outputs": [],
   "source": [
    "# ref lab 5.02\n",
    "# adapted from https://stackoverflow.com/questions/28384680/scikit-learns-pipeline-a-sparse-matrix-was-passed-but-dense-data-is-required\n",
    "class DenseTransformer(TransformerMixin):\n",
    "    def fit(self, X, y=None, **fit_params):\n",
    "        return self\n",
    "\n",
    "    def transform(self, X, y=None, **fit_params):\n",
    "        return X.toarray()"
   ]
  },
  {
   "cell_type": "markdown",
   "metadata": {},
   "source": [
    "*After testing the dense transformer with my models I didn't get different scores/best paramaters.*"
   ]
  },
  {
   "cell_type": "markdown",
   "metadata": {},
   "source": [
    "### Pipeline/Gridsearch: CountVectorizer and Multinomial Naive Bayes"
   ]
  },
  {
   "cell_type": "code",
   "execution_count": 45,
   "metadata": {},
   "outputs": [
    {
     "data": {
      "text/plain": [
       "pandas.core.series.Series"
      ]
     },
     "execution_count": 45,
     "metadata": {},
     "output_type": "execute_result"
    }
   ],
   "source": [
    "type(X_train)"
   ]
  },
  {
   "cell_type": "code",
   "execution_count": 48,
   "metadata": {},
   "outputs": [],
   "source": [
    "pipe = Pipeline([\n",
    "    ('cvec', CountVectorizer(stop_words = words_list)),\n",
    "    ('_', DenseTransformer()),\n",
    "    ('nb', MultinomialNB())\n",
    "])"
   ]
  },
  {
   "cell_type": "code",
   "execution_count": 49,
   "metadata": {},
   "outputs": [],
   "source": [
    "pipe_params = {\n",
    "    'cvec__max_features': [2_000, 3_000, 4_000],\n",
    "    'cvec__min_df': [2, 3],\n",
    "    'cvec__max_df': [.9, .95],\n",
    "    'cvec__ngram_range': [(1,1), (1,2), (1,3)],\n",
    "    'cvec__stop_words': [None, 'english']\n",
    "}"
   ]
  },
  {
   "cell_type": "code",
   "execution_count": 50,
   "metadata": {},
   "outputs": [],
   "source": [
    "# Instantiate GridSearchCV\n",
    "\n",
    "gs = GridSearchCV(pipe, param_grid=pipe_params, cv=5)"
   ]
  },
  {
   "cell_type": "code",
   "execution_count": 51,
   "metadata": {},
   "outputs": [
    {
     "data": {
      "text/plain": [
       "GridSearchCV(cv=5,\n",
       "             estimator=Pipeline(steps=[('cvec',\n",
       "                                        CountVectorizer(stop_words=['tinder',\n",
       "                                                                    'bumble',\n",
       "                                                                    'https',\n",
       "                                                                    'reddit',\n",
       "                                                                    'www',\n",
       "                                                                    'just',\n",
       "                                                                    've',\n",
       "                                                                    'feel',\n",
       "                                                                    'like',\n",
       "                                                                    'com',\n",
       "                                                                    'jfe'])),\n",
       "                                       ('_',\n",
       "                                        <__main__.DenseTransformer object at 0x1853b4370>),\n",
       "                                       ('nb', MultinomialNB())]),\n",
       "             param_grid={'cvec__max_df': [0.9, 0.95],\n",
       "                         'cvec__max_features': [2000, 3000, 4000],\n",
       "                         'cvec__min_df': [2, 3],\n",
       "                         'cvec__ngram_range': [(1, 1), (1, 2), (1, 3)],\n",
       "                         'cvec__stop_words': [None, 'english']})"
      ]
     },
     "execution_count": 51,
     "metadata": {},
     "output_type": "execute_result"
    }
   ],
   "source": [
    "gs.fit(X_train, y_train)"
   ]
  },
  {
   "cell_type": "code",
   "execution_count": 52,
   "metadata": {},
   "outputs": [
    {
     "name": "stdout",
     "output_type": "stream",
     "text": [
      "0.6388351192533702\n"
     ]
    }
   ],
   "source": [
    "# What's the best score?\n",
    "print(gs.best_score_)"
   ]
  },
  {
   "cell_type": "code",
   "execution_count": 53,
   "metadata": {},
   "outputs": [
    {
     "data": {
      "text/plain": [
       "{'cvec__max_df': 0.9,\n",
       " 'cvec__max_features': 4000,\n",
       " 'cvec__min_df': 2,\n",
       " 'cvec__ngram_range': (1, 2),\n",
       " 'cvec__stop_words': None}"
      ]
     },
     "execution_count": 53,
     "metadata": {},
     "output_type": "execute_result"
    }
   ],
   "source": [
    "gs.best_params_"
   ]
  },
  {
   "cell_type": "code",
   "execution_count": 54,
   "metadata": {},
   "outputs": [
    {
     "data": {
      "text/plain": [
       "0.8125948406676783"
      ]
     },
     "execution_count": 54,
     "metadata": {},
     "output_type": "execute_result"
    }
   ],
   "source": [
    "# Score model on training set.\n",
    "gs.score(X_train, y_train)"
   ]
  },
  {
   "cell_type": "code",
   "execution_count": 55,
   "metadata": {},
   "outputs": [
    {
     "data": {
      "text/plain": [
       "0.6625441696113075"
      ]
     },
     "execution_count": 55,
     "metadata": {},
     "output_type": "execute_result"
    }
   ],
   "source": [
    "# Score model on testing set.\n",
    "gs.score(X_test, y_test)"
   ]
  },
  {
   "cell_type": "markdown",
   "metadata": {},
   "source": [
    "**Interpretation: While this model is overfit, the best score and test score are pretty similar and beat our baseline of 50%.**"
   ]
  },
  {
   "cell_type": "markdown",
   "metadata": {},
   "source": [
    "### Pipeline/Gridsearch: Tfidf and Multinomial Naive Bayes"
   ]
  },
  {
   "cell_type": "code",
   "execution_count": 59,
   "metadata": {},
   "outputs": [],
   "source": [
    "pipe_tvec = Pipeline([\n",
    "    ('tvec', TfidfVectorizer(stop_words = words_list)),\n",
    "    ('_', DenseTransformer()),\n",
    "    ('nb', MultinomialNB())\n",
    "])"
   ]
  },
  {
   "cell_type": "code",
   "execution_count": 60,
   "metadata": {},
   "outputs": [],
   "source": [
    "pipe_tvec_params = {\n",
    "    'tvec__max_features': [2_000, 3_000, 4_000, 5_000],\n",
    "    'tvec__stop_words': [None, 'english'],\n",
    "    'tvec__ngram_range': [(1,1), (1,2), (1,3)]\n",
    "}"
   ]
  },
  {
   "cell_type": "code",
   "execution_count": 61,
   "metadata": {},
   "outputs": [],
   "source": [
    "# Instantiate GridSearchCV.\n",
    "\n",
    "gs_tvec = GridSearchCV(pipe_tvec, param_grid = pipe_tvec_params, cv=5)"
   ]
  },
  {
   "cell_type": "code",
   "execution_count": 62,
   "metadata": {},
   "outputs": [
    {
     "data": {
      "text/plain": [
       "GridSearchCV(cv=5,\n",
       "             estimator=Pipeline(steps=[('tvec',\n",
       "                                        TfidfVectorizer(stop_words=['tinder',\n",
       "                                                                    'bumble',\n",
       "                                                                    'https',\n",
       "                                                                    'reddit',\n",
       "                                                                    'www',\n",
       "                                                                    'just',\n",
       "                                                                    've',\n",
       "                                                                    'feel',\n",
       "                                                                    'like',\n",
       "                                                                    'com',\n",
       "                                                                    'jfe'])),\n",
       "                                       ('_',\n",
       "                                        <__main__.DenseTransformer object at 0x1892f0130>),\n",
       "                                       ('nb', MultinomialNB())]),\n",
       "             param_grid={'tvec__max_features': [2000, 3000, 4000, 5000],\n",
       "                         'tvec__ngram_range': [(1, 1), (1, 2), (1, 3)],\n",
       "                         'tvec__stop_words': [None, 'english']})"
      ]
     },
     "execution_count": 62,
     "metadata": {},
     "output_type": "execute_result"
    }
   ],
   "source": [
    "gs_tvec.fit(X_train, y_train)"
   ]
  },
  {
   "cell_type": "code",
   "execution_count": 63,
   "metadata": {},
   "outputs": [
    {
     "name": "stdout",
     "output_type": "stream",
     "text": [
      "0.6327629911280102\n"
     ]
    }
   ],
   "source": [
    "print(gs_tvec.best_score_)"
   ]
  },
  {
   "cell_type": "code",
   "execution_count": 64,
   "metadata": {},
   "outputs": [
    {
     "data": {
      "text/plain": [
       "{'tvec__max_features': 2000,\n",
       " 'tvec__ngram_range': (1, 2),\n",
       " 'tvec__stop_words': 'english'}"
      ]
     },
     "execution_count": 64,
     "metadata": {},
     "output_type": "execute_result"
    }
   ],
   "source": [
    "gs_tvec.best_params_"
   ]
  },
  {
   "cell_type": "code",
   "execution_count": 65,
   "metadata": {},
   "outputs": [
    {
     "data": {
      "text/plain": [
       "0.830804248861912"
      ]
     },
     "execution_count": 65,
     "metadata": {},
     "output_type": "execute_result"
    }
   ],
   "source": [
    "# Score model on training set.\n",
    "gs_tvec.score(X_train, y_train)"
   ]
  },
  {
   "cell_type": "code",
   "execution_count": 66,
   "metadata": {},
   "outputs": [
    {
     "data": {
      "text/plain": [
       "0.6554770318021201"
      ]
     },
     "execution_count": 66,
     "metadata": {},
     "output_type": "execute_result"
    }
   ],
   "source": [
    "# Score model on testing set.\n",
    "gs_tvec.score(X_test, y_test)"
   ]
  },
  {
   "cell_type": "markdown",
   "metadata": {},
   "source": [
    "**Interpretation: Similar to the model above, this model is overfit, but the best score and test score are pretty similar and beat our baseline of 50%. The one above is slightly better though.**"
   ]
  },
  {
   "cell_type": "markdown",
   "metadata": {},
   "source": [
    "### Pipeline/Gridsearch: Tfidf and KNN"
   ]
  },
  {
   "cell_type": "code",
   "execution_count": 71,
   "metadata": {},
   "outputs": [],
   "source": [
    "pipe_tk = Pipeline([\n",
    "    ('tvec', TfidfVectorizer(stop_words = words_list)),\n",
    "    ('knn', KNeighborsClassifier(n_neighbors=5))\n",
    "])"
   ]
  },
  {
   "cell_type": "code",
   "execution_count": 72,
   "metadata": {},
   "outputs": [],
   "source": [
    "pipe_tk_params = {'knn__p': [1,2],\n",
    "                 'knn__weights': ['uniform', 'distance'],\n",
    "                 'knn__n_neighbors': [3,5,10],\n",
    "                 'tvec__max_features': [2_000, 3_000, 4_000, 5_000],\n",
    "                  'tvec__stop_words': [None, 'english'],\n",
    "                  'tvec__ngram_range': [(1,1), (1,2)]}"
   ]
  },
  {
   "cell_type": "code",
   "execution_count": 73,
   "metadata": {},
   "outputs": [],
   "source": [
    "gs_tk = GridSearchCV(pipe_tk, param_grid = pipe_tk_params, cv=5)"
   ]
  },
  {
   "cell_type": "code",
   "execution_count": 74,
   "metadata": {},
   "outputs": [],
   "source": [
    "gs_tk.fit(X_train, y_train);"
   ]
  },
  {
   "cell_type": "code",
   "execution_count": 75,
   "metadata": {},
   "outputs": [
    {
     "data": {
      "text/plain": [
       "0.601621730614126"
      ]
     },
     "execution_count": 75,
     "metadata": {},
     "output_type": "execute_result"
    }
   ],
   "source": [
    "gs_tk.best_score_"
   ]
  },
  {
   "cell_type": "code",
   "execution_count": 76,
   "metadata": {},
   "outputs": [
    {
     "data": {
      "text/plain": [
       "{'knn__n_neighbors': 10,\n",
       " 'knn__p': 2,\n",
       " 'knn__weights': 'uniform',\n",
       " 'tvec__max_features': 4000,\n",
       " 'tvec__ngram_range': (1, 1),\n",
       " 'tvec__stop_words': None}"
      ]
     },
     "execution_count": 76,
     "metadata": {},
     "output_type": "execute_result"
    }
   ],
   "source": [
    "gs_tk.best_params_"
   ]
  },
  {
   "cell_type": "code",
   "execution_count": 77,
   "metadata": {},
   "outputs": [
    {
     "data": {
      "text/plain": [
       "0.49823321554770317"
      ]
     },
     "execution_count": 77,
     "metadata": {},
     "output_type": "execute_result"
    }
   ],
   "source": [
    "gs_tk.score(X_test, y_test)"
   ]
  },
  {
   "cell_type": "code",
   "execution_count": 78,
   "metadata": {},
   "outputs": [
    {
     "data": {
      "text/plain": [
       "0.4969650986342944"
      ]
     },
     "execution_count": 78,
     "metadata": {},
     "output_type": "execute_result"
    }
   ],
   "source": [
    "gs_tk.score(X_train, y_train)"
   ]
  },
  {
   "cell_type": "markdown",
   "metadata": {},
   "source": [
    "**Interpretation: While this model is not overfit, it does not perform any better than our baseline so I won't use it.**"
   ]
  },
  {
   "cell_type": "markdown",
   "metadata": {},
   "source": [
    "### Pipeline/Gridsearch: Countvectorizer and SVC"
   ]
  },
  {
   "cell_type": "code",
   "execution_count": 301,
   "metadata": {},
   "outputs": [
    {
     "data": {
      "text/plain": [
       "GridSearchCV(cv=5,\n",
       "             estimator=Pipeline(steps=[('cvec',\n",
       "                                        CountVectorizer(stop_words=['tinder',\n",
       "                                                                    'bumble',\n",
       "                                                                    'https',\n",
       "                                                                    'reddit',\n",
       "                                                                    'www',\n",
       "                                                                    'just',\n",
       "                                                                    've',\n",
       "                                                                    'feel',\n",
       "                                                                    'like',\n",
       "                                                                    'com',\n",
       "                                                                    'jfe', 'ca',\n",
       "                                                                    'mailto',\n",
       "                                                                    'flava'])),\n",
       "                                       ('svm', SVC())]),\n",
       "             n_jobs=4,\n",
       "             param_grid={'cvec__max_df': [0.9], 'cvec__max_features': [3000],\n",
       "                         'cvec__min_df': [2], 'cvec__ngram_range': [(1, 1)],\n",
       "                         'cvec__stop_words': ['english'],\n",
       "                         'svm__C': array([0.        , 0.26315789, 0.52631579, 0.78947368, 1.05263158,\n",
       "       1.31578947, 1.57894737, 1.84210526, 2.10526316, 2.36842105,\n",
       "       2.63157895, 2.89473684, 3.15789474, 3.42105263, 3.68421053,\n",
       "       3.94736842, 4.21052632, 4.47368421, 4.73684211, 5.        ]),\n",
       "                         'svm__degree': [2]})"
      ]
     },
     "execution_count": 301,
     "metadata": {},
     "output_type": "execute_result"
    }
   ],
   "source": [
    "pipe_svc = Pipeline([\n",
    "    ('cvec', CountVectorizer(stop_words = words_list)),\n",
    "    ('svc', SVC())\n",
    "])\n",
    "\n",
    "p_grid = {\n",
    "    \n",
    "    'svc__C':np.linspace(0, 5, 20),\n",
    "    'svc__degree':[2],\n",
    "    'cvec__max_features': [3_000],\n",
    "    'cvec__min_df': [2],\n",
    "    'cvec__max_df': [.9],\n",
    "    'cvec__ngram_range': [(1,1)],\n",
    "    'cvec__stop_words': ['english']\n",
    "}\n",
    "\n",
    "gs_svc = GridSearchCV(pipe_svc, param_grid=p_grid, cv=5, n_jobs = 4)\n",
    "\n",
    "gs_svc.fit(X_train, y_train)"
   ]
  },
  {
   "cell_type": "code",
   "execution_count": 302,
   "metadata": {},
   "outputs": [
    {
     "data": {
      "text/plain": [
       "0.7025895840534624"
      ]
     },
     "execution_count": 302,
     "metadata": {},
     "output_type": "execute_result"
    }
   ],
   "source": [
    "gs_svc.best_score_"
   ]
  },
  {
   "cell_type": "code",
   "execution_count": 303,
   "metadata": {},
   "outputs": [
    {
     "data": {
      "text/plain": [
       "{'cvec__max_df': 0.9,\n",
       " 'cvec__max_features': 3000,\n",
       " 'cvec__min_df': 2,\n",
       " 'cvec__ngram_range': (1, 1),\n",
       " 'cvec__stop_words': 'english',\n",
       " 'svm__C': 2.1052631578947367,\n",
       " 'svm__degree': 2}"
      ]
     },
     "execution_count": 303,
     "metadata": {},
     "output_type": "execute_result"
    }
   ],
   "source": [
    "gs_svc.best_params_"
   ]
  },
  {
   "cell_type": "code",
   "execution_count": 304,
   "metadata": {},
   "outputs": [
    {
     "name": "stdout",
     "output_type": "stream",
     "text": [
      "0.849772382397572\n",
      "0.7190812720848057\n"
     ]
    }
   ],
   "source": [
    "print(gs_svc.score(X_train, y_train))\n",
    "print(gs_svc.score(X_test, y_test))"
   ]
  },
  {
   "cell_type": "markdown",
   "metadata": {},
   "source": [
    "## BEST MODEL Pipeline/Gridsearch: CountVectorizer and RandomForest"
   ]
  },
  {
   "cell_type": "code",
   "execution_count": 296,
   "metadata": {},
   "outputs": [
    {
     "data": {
      "text/plain": [
       "GridSearchCV(cv=5,\n",
       "             estimator=Pipeline(steps=[('cvec',\n",
       "                                        CountVectorizer(stop_words=['tinder',\n",
       "                                                                    'bumble',\n",
       "                                                                    'https',\n",
       "                                                                    'reddit',\n",
       "                                                                    'www',\n",
       "                                                                    'just',\n",
       "                                                                    've',\n",
       "                                                                    'feel',\n",
       "                                                                    'like',\n",
       "                                                                    'com',\n",
       "                                                                    'jfe', 'ca',\n",
       "                                                                    'mailto',\n",
       "                                                                    'flava'])),\n",
       "                                       ('rf',\n",
       "                                        RandomForestClassifier(random_state=33))]),\n",
       "             param_grid={'cvec__max_df': [0.9], 'cvec__max_features': [3000],\n",
       "                         'cvec__min_df': [2], 'cvec__ngram_range': [(1, 1)],\n",
       "                         'cvec__stop_words': ['english'],\n",
       "                         'rf__max_depth': [5, 6],\n",
       "                         'rf__max_features': [None, 'auto'],\n",
       "                         'rf__n_estimators': [75, 80]})"
      ]
     },
     "execution_count": 296,
     "metadata": {},
     "output_type": "execute_result"
    }
   ],
   "source": [
    "pipe_rf = Pipeline([\n",
    "    ('cvec', CountVectorizer(stop_words = words_list)),\n",
    "    ('rf', RandomForestClassifier(random_state=33))\n",
    "])\n",
    "\n",
    "params = {'rf__n_estimators' : [75, 80],\n",
    "          'rf__max_features' : [None, 'auto'],\n",
    "          'rf__max_depth' : [5, 6],\n",
    "          'cvec__max_features': [3_000],\n",
    "          'cvec__min_df': [2],\n",
    "          'cvec__max_df': [.9],\n",
    "          'cvec__ngram_range': [(1,1)],\n",
    "          'cvec__stop_words': ['english']\n",
    "}\n",
    "\n",
    "gs_rf = GridSearchCV(pipe_rf, param_grid = params, cv = 5)\n",
    "\n",
    "gs_rf.fit(X_train, y_train)"
   ]
  },
  {
   "cell_type": "code",
   "execution_count": 104,
   "metadata": {},
   "outputs": [
    {
     "data": {
      "text/plain": [
       "0.7033413987786611"
      ]
     },
     "execution_count": 104,
     "metadata": {},
     "output_type": "execute_result"
    }
   ],
   "source": [
    "gs_rf.best_score_"
   ]
  },
  {
   "cell_type": "code",
   "execution_count": 106,
   "metadata": {},
   "outputs": [
    {
     "data": {
      "text/plain": [
       "{'cvec__max_df': 0.9,\n",
       " 'cvec__max_features': 3000,\n",
       " 'cvec__min_df': 2,\n",
       " 'cvec__ngram_range': (1, 1),\n",
       " 'cvec__stop_words': 'english',\n",
       " 'rf__max_depth': 5,\n",
       " 'rf__max_features': 'auto',\n",
       " 'rf__n_estimators': 75}"
      ]
     },
     "execution_count": 106,
     "metadata": {},
     "output_type": "execute_result"
    }
   ],
   "source": [
    "gs_rf.best_params_"
   ]
  },
  {
   "cell_type": "code",
   "execution_count": 121,
   "metadata": {},
   "outputs": [
    {
     "name": "stdout",
     "output_type": "stream",
     "text": [
      "0.7382397572078907\n",
      "0.7296819787985865\n"
     ]
    }
   ],
   "source": [
    "print(gs_rf.score(X_train, y_train))\n",
    "print(gs_rf.score(X_test, y_test))"
   ]
  },
  {
   "cell_type": "markdown",
   "metadata": {},
   "source": [
    "**Interpretation: This model has the second highest accuracy score (73.0% vs. 73.1%). However, the logistic regression model that scored slightly better is very very overfit while this one scores very well when comparing test/train scores. This is the model I will use.**"
   ]
  },
  {
   "cell_type": "markdown",
   "metadata": {},
   "source": [
    "#### Save the best model for further evaluation below"
   ]
  },
  {
   "cell_type": "code",
   "execution_count": 122,
   "metadata": {},
   "outputs": [],
   "source": [
    "# Save the best model\n",
    "rf_model = gs_rf.best_estimator_"
   ]
  },
  {
   "cell_type": "markdown",
   "metadata": {},
   "source": [
    "### Pipeline/Gridsearch: Tfdif and RandomForest"
   ]
  },
  {
   "cell_type": "code",
   "execution_count": 115,
   "metadata": {},
   "outputs": [
    {
     "data": {
      "text/plain": [
       "GridSearchCV(cv=5,\n",
       "             estimator=Pipeline(steps=[('tvec',\n",
       "                                        TfidfVectorizer(stop_words=['tinder',\n",
       "                                                                    'bumble',\n",
       "                                                                    'https',\n",
       "                                                                    'reddit',\n",
       "                                                                    'www',\n",
       "                                                                    'just',\n",
       "                                                                    've',\n",
       "                                                                    'feel',\n",
       "                                                                    'like',\n",
       "                                                                    'com',\n",
       "                                                                    'jfe'])),\n",
       "                                       ('rft',\n",
       "                                        RandomForestClassifier(random_state=33))]),\n",
       "             param_grid={'rft__max_depth': [6, 7],\n",
       "                         'rft__max_features': [None, 'auto'],\n",
       "                         'rft__n_estimators': [80, 85],\n",
       "                         'tvec__max_features': [2000],\n",
       "                         'tvec__ngram_range': [(1, 1)],\n",
       "                         'tvec__stop_words': [None, 'english']})"
      ]
     },
     "execution_count": 115,
     "metadata": {},
     "output_type": "execute_result"
    }
   ],
   "source": [
    "pipe_rft = Pipeline([\n",
    "    ('tvec', TfidfVectorizer(stop_words = words_list)),\n",
    "    ('rft', RandomForestClassifier(random_state=33))\n",
    "])\n",
    "\n",
    "params = {'rft__n_estimators' : [80, 85],\n",
    "          'rft__max_features' : [None, 'auto'],\n",
    "          'rft__max_depth' : [6, 7],\n",
    "          'tvec__max_features': [2_000],\n",
    "    'tvec__stop_words': [None, 'english'],\n",
    "    'tvec__ngram_range': [(1,1)]\n",
    "}\n",
    "\n",
    "gs_rft = GridSearchCV(pipe_rft, param_grid = params, cv = 5)\n",
    "\n",
    "gs_rft.fit(X_train, y_train)"
   ]
  },
  {
   "cell_type": "code",
   "execution_count": 116,
   "metadata": {},
   "outputs": [
    {
     "data": {
      "text/plain": [
       "0.720797326880977"
      ]
     },
     "execution_count": 116,
     "metadata": {},
     "output_type": "execute_result"
    }
   ],
   "source": [
    "gs_rft.best_score_"
   ]
  },
  {
   "cell_type": "code",
   "execution_count": 117,
   "metadata": {},
   "outputs": [
    {
     "data": {
      "text/plain": [
       "{'rft__max_depth': 7,\n",
       " 'rft__max_features': None,\n",
       " 'rft__n_estimators': 80,\n",
       " 'tvec__max_features': 2000,\n",
       " 'tvec__ngram_range': (1, 1),\n",
       " 'tvec__stop_words': 'english'}"
      ]
     },
     "execution_count": 117,
     "metadata": {},
     "output_type": "execute_result"
    }
   ],
   "source": [
    "gs_rft.best_params_"
   ]
  },
  {
   "cell_type": "code",
   "execution_count": 118,
   "metadata": {},
   "outputs": [
    {
     "data": {
      "text/plain": [
       "0.7905918057663126"
      ]
     },
     "execution_count": 118,
     "metadata": {},
     "output_type": "execute_result"
    }
   ],
   "source": [
    "gs_rft.score(X_train, y_train)"
   ]
  },
  {
   "cell_type": "code",
   "execution_count": 119,
   "metadata": {},
   "outputs": [
    {
     "data": {
      "text/plain": [
       "0.7279151943462897"
      ]
     },
     "execution_count": 119,
     "metadata": {},
     "output_type": "execute_result"
    }
   ],
   "source": [
    "gs_rft.score(X_test, y_test)"
   ]
  },
  {
   "cell_type": "markdown",
   "metadata": {},
   "source": [
    "### Pipeline/Gridsearch: CountVectorizer and Logistic Regression"
   ]
  },
  {
   "cell_type": "code",
   "execution_count": 79,
   "metadata": {},
   "outputs": [],
   "source": [
    "pipe_log = Pipeline([\n",
    "    ('cvec', CountVectorizer(stop_words = words_list)),\n",
    "    ('_', DenseTransformer()),\n",
    "    ('log', LogisticRegression(solver = 'liblinear'))\n",
    "])\n",
    "\n",
    "pipe_log_params = {'cvec__max_features': [2_000, 3_000, 4_000],\n",
    "                   'cvec__min_df': [2, 3],\n",
    "                   'cvec__max_df': [.9, .95],\n",
    "                   'cvec__ngram_range': [(1,1), (1,2), (1,3)],\n",
    "                   'cvec__stop_words': [None, 'english']}\n",
    "\n",
    "gs_log = GridSearchCV(pipe_log, param_grid = pipe_log_params, cv=5)\n",
    "\n",
    "gs_log.fit(X_train, y_train);"
   ]
  },
  {
   "cell_type": "code",
   "execution_count": 80,
   "metadata": {},
   "outputs": [
    {
     "data": {
      "text/plain": [
       "0.7154712524484387"
      ]
     },
     "execution_count": 80,
     "metadata": {},
     "output_type": "execute_result"
    }
   ],
   "source": [
    "gs_log.best_score_"
   ]
  },
  {
   "cell_type": "code",
   "execution_count": 318,
   "metadata": {},
   "outputs": [
    {
     "data": {
      "text/plain": [
       "{'cvec__max_df': 0.9,\n",
       " 'cvec__max_features': 3000,\n",
       " 'cvec__min_df': 2,\n",
       " 'cvec__ngram_range': (1, 3),\n",
       " 'cvec__stop_words': 'english'}"
      ]
     },
     "execution_count": 318,
     "metadata": {},
     "output_type": "execute_result"
    }
   ],
   "source": [
    "gs_log.best_params_"
   ]
  },
  {
   "cell_type": "code",
   "execution_count": 319,
   "metadata": {},
   "outputs": [
    {
     "data": {
      "text/plain": [
       "0.9226100151745068"
      ]
     },
     "execution_count": 319,
     "metadata": {},
     "output_type": "execute_result"
    }
   ],
   "source": [
    "gs_log.score(X_train, y_train)"
   ]
  },
  {
   "cell_type": "code",
   "execution_count": 320,
   "metadata": {},
   "outputs": [
    {
     "data": {
      "text/plain": [
       "0.7314487632508834"
      ]
     },
     "execution_count": 320,
     "metadata": {},
     "output_type": "execute_result"
    }
   ],
   "source": [
    "gs_log.score(X_test, y_test)"
   ]
  },
  {
   "cell_type": "markdown",
   "metadata": {},
   "source": [
    "**Interpretation: This model has the highest accuracy test score but just slightly and it is very overfit. Therefore I'm not going to choose it.**"
   ]
  },
  {
   "cell_type": "markdown",
   "metadata": {},
   "source": [
    "### Model using \"text_word_count\" in model as well"
   ]
  },
  {
   "cell_type": "markdown",
   "metadata": {},
   "source": [
    "*I thought it was interesting that tinder had about 4x as long of posts as bumble. Therefore, I wanted to test whether including it improves my most accurate model.*"
   ]
  },
  {
   "cell_type": "code",
   "execution_count": 296,
   "metadata": {},
   "outputs": [
    {
     "data": {
      "text/html": [
       "<div>\n",
       "<style scoped>\n",
       "    .dataframe tbody tr th:only-of-type {\n",
       "        vertical-align: middle;\n",
       "    }\n",
       "\n",
       "    .dataframe tbody tr th {\n",
       "        vertical-align: top;\n",
       "    }\n",
       "\n",
       "    .dataframe thead th {\n",
       "        text-align: right;\n",
       "    }\n",
       "</style>\n",
       "<table border=\"1\" class=\"dataframe\">\n",
       "  <thead>\n",
       "    <tr style=\"text-align: right;\">\n",
       "      <th></th>\n",
       "      <th>00</th>\n",
       "      <th>000</th>\n",
       "      <th>00pm</th>\n",
       "      <th>02</th>\n",
       "      <th>0x2fwbi</th>\n",
       "      <th>10</th>\n",
       "      <th>100</th>\n",
       "      <th>100th</th>\n",
       "      <th>101</th>\n",
       "      <th>1050</th>\n",
       "      <th>...</th>\n",
       "      <th>yuy</th>\n",
       "      <th>zareklamy</th>\n",
       "      <th>zero</th>\n",
       "      <th>zip</th>\n",
       "      <th>zone</th>\n",
       "      <th>zookeeper</th>\n",
       "      <th>zoom</th>\n",
       "      <th>zoomed</th>\n",
       "      <th>zrjvcc7</th>\n",
       "      <th>text_word_count</th>\n",
       "    </tr>\n",
       "  </thead>\n",
       "  <tbody>\n",
       "    <tr>\n",
       "      <th>0</th>\n",
       "      <td>0</td>\n",
       "      <td>0</td>\n",
       "      <td>0</td>\n",
       "      <td>0</td>\n",
       "      <td>0</td>\n",
       "      <td>0</td>\n",
       "      <td>0</td>\n",
       "      <td>0</td>\n",
       "      <td>0</td>\n",
       "      <td>0</td>\n",
       "      <td>...</td>\n",
       "      <td>0</td>\n",
       "      <td>0</td>\n",
       "      <td>0</td>\n",
       "      <td>0</td>\n",
       "      <td>0</td>\n",
       "      <td>0</td>\n",
       "      <td>0</td>\n",
       "      <td>0</td>\n",
       "      <td>1</td>\n",
       "      <td>197</td>\n",
       "    </tr>\n",
       "    <tr>\n",
       "      <th>1</th>\n",
       "      <td>0</td>\n",
       "      <td>0</td>\n",
       "      <td>0</td>\n",
       "      <td>0</td>\n",
       "      <td>0</td>\n",
       "      <td>0</td>\n",
       "      <td>0</td>\n",
       "      <td>0</td>\n",
       "      <td>0</td>\n",
       "      <td>0</td>\n",
       "      <td>...</td>\n",
       "      <td>0</td>\n",
       "      <td>0</td>\n",
       "      <td>0</td>\n",
       "      <td>0</td>\n",
       "      <td>0</td>\n",
       "      <td>0</td>\n",
       "      <td>0</td>\n",
       "      <td>0</td>\n",
       "      <td>0</td>\n",
       "      <td>43</td>\n",
       "    </tr>\n",
       "    <tr>\n",
       "      <th>2</th>\n",
       "      <td>0</td>\n",
       "      <td>0</td>\n",
       "      <td>0</td>\n",
       "      <td>0</td>\n",
       "      <td>0</td>\n",
       "      <td>0</td>\n",
       "      <td>0</td>\n",
       "      <td>0</td>\n",
       "      <td>0</td>\n",
       "      <td>0</td>\n",
       "      <td>...</td>\n",
       "      <td>0</td>\n",
       "      <td>0</td>\n",
       "      <td>0</td>\n",
       "      <td>0</td>\n",
       "      <td>0</td>\n",
       "      <td>0</td>\n",
       "      <td>0</td>\n",
       "      <td>0</td>\n",
       "      <td>0</td>\n",
       "      <td>25</td>\n",
       "    </tr>\n",
       "    <tr>\n",
       "      <th>3</th>\n",
       "      <td>0</td>\n",
       "      <td>0</td>\n",
       "      <td>0</td>\n",
       "      <td>0</td>\n",
       "      <td>0</td>\n",
       "      <td>0</td>\n",
       "      <td>0</td>\n",
       "      <td>0</td>\n",
       "      <td>0</td>\n",
       "      <td>0</td>\n",
       "      <td>...</td>\n",
       "      <td>0</td>\n",
       "      <td>0</td>\n",
       "      <td>0</td>\n",
       "      <td>0</td>\n",
       "      <td>0</td>\n",
       "      <td>0</td>\n",
       "      <td>0</td>\n",
       "      <td>0</td>\n",
       "      <td>0</td>\n",
       "      <td>0</td>\n",
       "    </tr>\n",
       "    <tr>\n",
       "      <th>4</th>\n",
       "      <td>0</td>\n",
       "      <td>0</td>\n",
       "      <td>0</td>\n",
       "      <td>0</td>\n",
       "      <td>0</td>\n",
       "      <td>0</td>\n",
       "      <td>0</td>\n",
       "      <td>0</td>\n",
       "      <td>0</td>\n",
       "      <td>0</td>\n",
       "      <td>...</td>\n",
       "      <td>0</td>\n",
       "      <td>0</td>\n",
       "      <td>0</td>\n",
       "      <td>0</td>\n",
       "      <td>0</td>\n",
       "      <td>0</td>\n",
       "      <td>0</td>\n",
       "      <td>0</td>\n",
       "      <td>0</td>\n",
       "      <td>0</td>\n",
       "    </tr>\n",
       "  </tbody>\n",
       "</table>\n",
       "<p>5 rows × 5091 columns</p>\n",
       "</div>"
      ],
      "text/plain": [
       "   00  000  00pm  02  0x2fwbi  10  100  100th  101  1050  ...  yuy  zareklamy  \\\n",
       "0   0    0     0   0        0   0    0      0    0     0  ...    0          0   \n",
       "1   0    0     0   0        0   0    0      0    0     0  ...    0          0   \n",
       "2   0    0     0   0        0   0    0      0    0     0  ...    0          0   \n",
       "3   0    0     0   0        0   0    0      0    0     0  ...    0          0   \n",
       "4   0    0     0   0        0   0    0      0    0     0  ...    0          0   \n",
       "\n",
       "   zero  zip  zone  zookeeper  zoom  zoomed  zrjvcc7  text_word_count  \n",
       "0     0    0     0          0     0       0        1              197  \n",
       "1     0    0     0          0     0       0        0               43  \n",
       "2     0    0     0          0     0       0        0               25  \n",
       "3     0    0     0          0     0       0        0                0  \n",
       "4     0    0     0          0     0       0        0                0  \n",
       "\n",
       "[5 rows x 5091 columns]"
      ]
     },
     "execution_count": 296,
     "metadata": {},
     "output_type": "execute_result"
    }
   ],
   "source": [
    "# bring in countvectorized dataframe from above\n",
    "cv_df.head()"
   ]
  },
  {
   "cell_type": "code",
   "execution_count": 219,
   "metadata": {},
   "outputs": [],
   "source": [
    "# Add the text word count column from the original dating df\n",
    "cv_df['text_word_count'] = dating['text_word_count']"
   ]
  },
  {
   "cell_type": "code",
   "execution_count": 297,
   "metadata": {},
   "outputs": [],
   "source": [
    "# Define a new X and y\n",
    "X2 = cv_df.drop('subreddit', axis=1)\n",
    "y2 = cv_df['subreddit']"
   ]
  },
  {
   "cell_type": "code",
   "execution_count": 291,
   "metadata": {},
   "outputs": [],
   "source": [
    "# Played around a bit with test size and 20% seemed best\n",
    "X_train2, X_test2, y_train2, y_test2 = train_test_split(X2, y2, test_size=0.2, stratify = y, random_state= 42)"
   ]
  },
  {
   "cell_type": "code",
   "execution_count": 292,
   "metadata": {},
   "outputs": [],
   "source": [
    "# I needed to increase max iterations for the model to run\n",
    "log = LogisticRegression(max_iter = 1000)"
   ]
  },
  {
   "cell_type": "code",
   "execution_count": 293,
   "metadata": {},
   "outputs": [],
   "source": [
    "log.fit(X_train2, y_train2);"
   ]
  },
  {
   "cell_type": "code",
   "execution_count": 294,
   "metadata": {},
   "outputs": [
    {
     "data": {
      "text/plain": [
       "0.9256801592568016"
      ]
     },
     "execution_count": 294,
     "metadata": {},
     "output_type": "execute_result"
    }
   ],
   "source": [
    "log.score(X_train2, y_train2)"
   ]
  },
  {
   "cell_type": "code",
   "execution_count": 295,
   "metadata": {},
   "outputs": [
    {
     "data": {
      "text/plain": [
       "0.6737400530503979"
      ]
     },
     "execution_count": 295,
     "metadata": {},
     "output_type": "execute_result"
    }
   ],
   "source": [
    "log.score(X_test2, y_test2)"
   ]
  },
  {
   "cell_type": "markdown",
   "metadata": {},
   "source": [
    "**Interpretation: This model is very overfit and does not perform better than my previous and best performing model.**"
   ]
  },
  {
   "cell_type": "markdown",
   "metadata": {},
   "source": [
    "## Confusion Matrix and further Evaluation"
   ]
  },
  {
   "cell_type": "code",
   "execution_count": 123,
   "metadata": {},
   "outputs": [],
   "source": [
    "preds = rf_model.predict(X_test)"
   ]
  },
  {
   "cell_type": "code",
   "execution_count": 125,
   "metadata": {},
   "outputs": [
    {
     "name": "stdout",
     "output_type": "stream",
     "text": [
      "[[170 117]\n",
      " [ 36 243]]\n"
     ]
    }
   ],
   "source": [
    "tn, fp, fn, tp = confusion_matrix(y_test,\n",
    "                                  preds).ravel()\n",
    "print(confusion_matrix(y_test,\n",
    "                       preds))"
   ]
  },
  {
   "cell_type": "code",
   "execution_count": 126,
   "metadata": {},
   "outputs": [
    {
     "name": "stdout",
     "output_type": "stream",
     "text": [
      "0.871\n"
     ]
    }
   ],
   "source": [
    "# Calculate sensitivity (true pos. rate)\n",
    "sens = tp / (tp + fn)\n",
    "print(round(sens, 3))"
   ]
  },
  {
   "cell_type": "code",
   "execution_count": 128,
   "metadata": {},
   "outputs": [
    {
     "name": "stdout",
     "output_type": "stream",
     "text": [
      "0.592\n"
     ]
    }
   ],
   "source": [
    "# Calculate specificity (true neg. rate)\n",
    "spec = tn / (tn + fp)\n",
    "print(round(spec,3))"
   ]
  },
  {
   "cell_type": "code",
   "execution_count": 129,
   "metadata": {},
   "outputs": [
    {
     "name": "stdout",
     "output_type": "stream",
     "text": [
      " False positives: 117\n",
      " False negatives: 36\n"
     ]
    }
   ],
   "source": [
    "print(f' False positives: {fp}')\n",
    "print(f' False negatives: {fn}')"
   ]
  },
  {
   "cell_type": "markdown",
   "metadata": {},
   "source": [
    "**Interpretation:<br>\n",
    "Among the posts predicted as being classified as Tinder, 87.1% were accurate.<br>\n",
    "Among the posts predicted as being classified as Bumble, 59.2% were accurate.<br>\n",
    "This would lead me to believe that there is text from Tinder that is quite unique, whereas Bumble has a lot of overlapping text with Tinder and not much that is unique.**"
   ]
  },
  {
   "cell_type": "markdown",
   "metadata": {},
   "source": [
    "## Conclusions"
   ]
  },
  {
   "cell_type": "markdown",
   "metadata": {},
   "source": [
    "Our model was able to predict with 73% accuracy whether a post was from Bumble or Tinder. This beats our baseline of 50% significantly enough to show a distinction between the two."
   ]
  },
  {
   "cell_type": "markdown",
   "metadata": {},
   "source": [
    "**Recommendation:** I would recommend that single people interested in a serious relationship sign up for Bumble over Tinder because the common words, trigrams, and bigrams used in Tinder along with the shorter length of posts indicate a lower level of seriousness. "
   ]
  }
 ],
 "metadata": {
  "kernelspec": {
   "display_name": "Python 3",
   "language": "python",
   "name": "python3"
  },
  "language_info": {
   "codemirror_mode": {
    "name": "ipython",
    "version": 3
   },
   "file_extension": ".py",
   "mimetype": "text/x-python",
   "name": "python",
   "nbconvert_exporter": "python",
   "pygments_lexer": "ipython3",
   "version": "3.8.3"
  }
 },
 "nbformat": 4,
 "nbformat_minor": 4
}
