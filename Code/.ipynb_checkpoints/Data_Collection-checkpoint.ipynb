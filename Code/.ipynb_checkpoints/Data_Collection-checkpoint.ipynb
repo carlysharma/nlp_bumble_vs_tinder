{
 "cells": [
  {
   "cell_type": "code",
   "execution_count": 42,
   "metadata": {},
   "outputs": [],
   "source": [
    "import requests\n",
    "import pandas as pd\n",
    "import seaborn as sns\n",
    "from collections import defaultdict\n",
    "from sklearn.feature_extraction.text import CountVectorizer, TfidfVectorizer\n",
    "from sklearn.model_selection import train_test_split, GridSearchCV, cross_val_score\n",
    "from sklearn.pipeline import Pipeline\n",
    "from sklearn.naive_bayes import MultinomialNB\n",
    "from sklearn.linear_model import LogisticRegression\n",
    "from sklearn.metrics import confusion_matrix, plot_confusion_matrix\n",
    "from sklearn.feature_extraction import text \n",
    "import matplotlib.pyplot as plt"
   ]
  },
  {
   "cell_type": "markdown",
   "metadata": {},
   "source": [
    "## Bumble Post Imports from Reddit API"
   ]
  },
  {
   "cell_type": "code",
   "execution_count": 2,
   "metadata": {},
   "outputs": [],
   "source": [
    "# Get the first utc to start function with\n",
    "url = 'https://api.pushshift.io/reddit/search/submission'\n",
    "params = {'subreddit' : 'bumble',\n",
    "         'size' : 1}\n",
    "bumble = requests.get(url, params).json()\n",
    "first_utc = bumble['data'][0]['created_utc']"
   ]
  },
  {
   "cell_type": "code",
   "execution_count": 3,
   "metadata": {},
   "outputs": [
    {
     "data": {
      "text/plain": [
       "1606666764"
      ]
     },
     "execution_count": 3,
     "metadata": {},
     "output_type": "execute_result"
    }
   ],
   "source": [
    "first_utc"
   ]
  },
  {
   "cell_type": "code",
   "execution_count": 4,
   "metadata": {},
   "outputs": [],
   "source": [
    "# function to pull in data through API\n",
    "\n",
    "# start with none \n",
    "def bumble_posts(utc=None, number_posts=None):\n",
    "    frames = []\n",
    "    \n",
    "    # loop through number of posts divided by 100 because it pulls 100 each time\n",
    "    for i in range(int(number_posts/100)): \n",
    "        \n",
    "        url = 'https://api.pushshift.io/reddit/search/submission'\n",
    "        params = {'subreddit' : 'bumble',\n",
    "             'size' : 100,\n",
    "             'before': utc}\n",
    "        \n",
    "        #pull requests and jasonify in same step\n",
    "        bumble = requests.get(url, params).json()\n",
    "\n",
    "        # find the last utc in the most recent list to plug back into the function\n",
    "        last_utc = bumble['data'][-1]['created_utc']\n",
    "        utc = last_utc\n",
    "        \n",
    "        # add all pulls together to create one dataframe\n",
    "        frames.append((pd.DataFrame(bumble['data']))[['subreddit', 'selftext', 'title']])\n",
    "    \n",
    "    return pd.concat(frames)"
   ]
  },
  {
   "cell_type": "code",
   "execution_count": 5,
   "metadata": {},
   "outputs": [],
   "source": [
    "# Input first UTC from above to start function\n",
    "bumble_df = bumble_posts(utc=1606666764,number_posts=1000)"
   ]
  },
  {
   "cell_type": "code",
   "execution_count": 6,
   "metadata": {},
   "outputs": [
    {
     "data": {
      "text/plain": [
       "(1000, 3)"
      ]
     },
     "execution_count": 6,
     "metadata": {},
     "output_type": "execute_result"
    }
   ],
   "source": [
    "bumble_df.shape"
   ]
  },
  {
   "cell_type": "code",
   "execution_count": 7,
   "metadata": {},
   "outputs": [
    {
     "data": {
      "text/html": [
       "<div>\n",
       "<style scoped>\n",
       "    .dataframe tbody tr th:only-of-type {\n",
       "        vertical-align: middle;\n",
       "    }\n",
       "\n",
       "    .dataframe tbody tr th {\n",
       "        vertical-align: top;\n",
       "    }\n",
       "\n",
       "    .dataframe thead th {\n",
       "        text-align: right;\n",
       "    }\n",
       "</style>\n",
       "<table border=\"1\" class=\"dataframe\">\n",
       "  <thead>\n",
       "    <tr style=\"text-align: right;\">\n",
       "      <th></th>\n",
       "      <th>subreddit</th>\n",
       "      <th>selftext</th>\n",
       "      <th>title</th>\n",
       "    </tr>\n",
       "  </thead>\n",
       "  <tbody>\n",
       "    <tr>\n",
       "      <th>0</th>\n",
       "      <td>Bumble</td>\n",
       "      <td>Things that make me swipe left on you without ...</td>\n",
       "      <td>Things that will make me swipe left on you wit...</td>\n",
       "    </tr>\n",
       "    <tr>\n",
       "      <th>1</th>\n",
       "      <td>Bumble</td>\n",
       "      <td>If you’ve hit it off with a girl on Bumble, wo...</td>\n",
       "      <td>Men: Do you ever intentionally wait a couple d...</td>\n",
       "    </tr>\n",
       "    <tr>\n",
       "      <th>2</th>\n",
       "      <td>Bumble</td>\n",
       "      <td>I haven’t gotten a single match since I downlo...</td>\n",
       "      <td>Would love some profile help!</td>\n",
       "    </tr>\n",
       "    <tr>\n",
       "      <th>3</th>\n",
       "      <td>Bumble</td>\n",
       "      <td>[removed]</td>\n",
       "      <td>When to sleep with a dude from bumble?</td>\n",
       "    </tr>\n",
       "    <tr>\n",
       "      <th>4</th>\n",
       "      <td>Bumble</td>\n",
       "      <td></td>\n",
       "      <td>No butt stuff? No existence</td>\n",
       "    </tr>\n",
       "  </tbody>\n",
       "</table>\n",
       "</div>"
      ],
      "text/plain": [
       "  subreddit                                           selftext  \\\n",
       "0    Bumble  Things that make me swipe left on you without ...   \n",
       "1    Bumble  If you’ve hit it off with a girl on Bumble, wo...   \n",
       "2    Bumble  I haven’t gotten a single match since I downlo...   \n",
       "3    Bumble                                          [removed]   \n",
       "4    Bumble                                                      \n",
       "\n",
       "                                               title  \n",
       "0  Things that will make me swipe left on you wit...  \n",
       "1  Men: Do you ever intentionally wait a couple d...  \n",
       "2                      Would love some profile help!  \n",
       "3             When to sleep with a dude from bumble?  \n",
       "4                        No butt stuff? No existence  "
      ]
     },
     "execution_count": 7,
     "metadata": {},
     "output_type": "execute_result"
    }
   ],
   "source": [
    "bumble_df.head()"
   ]
  },
  {
   "cell_type": "markdown",
   "metadata": {},
   "source": [
    "## Tinder Post Imports from Reddit API"
   ]
  },
  {
   "cell_type": "code",
   "execution_count": 8,
   "metadata": {},
   "outputs": [],
   "source": [
    "# Get the first utc to start function with\n",
    "url = 'https://api.pushshift.io/reddit/search/submission'\n",
    "params = {'subreddit' : 'tinder',\n",
    "         'size' : 1}\n",
    "tinder = requests.get(url, params).json()\n",
    "first_utc = tinder['data'][0]['created_utc']"
   ]
  },
  {
   "cell_type": "code",
   "execution_count": 9,
   "metadata": {},
   "outputs": [
    {
     "data": {
      "text/plain": [
       "1606668007"
      ]
     },
     "execution_count": 9,
     "metadata": {},
     "output_type": "execute_result"
    }
   ],
   "source": [
    "first_utc"
   ]
  },
  {
   "cell_type": "code",
   "execution_count": 10,
   "metadata": {},
   "outputs": [],
   "source": [
    "# function to pull in data through API\n",
    "\n",
    "# start with none \n",
    "def tinder_posts(utc=None, number_posts=None):\n",
    "    frames = []\n",
    "    \n",
    "    # loop through number of posts divided by 100 because it pulls 100 each time\n",
    "    for i in range(int(number_posts/100)): \n",
    "        \n",
    "        url = 'https://api.pushshift.io/reddit/search/submission'\n",
    "        params = {'subreddit' : 'tinder',\n",
    "             'size' : 100,\n",
    "             'before': utc}\n",
    "        \n",
    "        #pull requests and jasonify in same step\n",
    "        tinder = requests.get(url, params).json()\n",
    "\n",
    "        # find the last utc in the most recent list to plug back into the function\n",
    "        last_utc = tinder['data'][-1]['created_utc']\n",
    "        utc = last_utc\n",
    "        \n",
    "        # add all pulls together to create one dataframe\n",
    "        frames.append((pd.DataFrame(tinder['data']))[['subreddit', 'selftext', 'title']])\n",
    "    \n",
    "    return pd.concat(frames)"
   ]
  },
  {
   "cell_type": "code",
   "execution_count": 11,
   "metadata": {},
   "outputs": [],
   "source": [
    "tinder_df = tinder_posts(utc=1606668007,number_posts=1000)"
   ]
  },
  {
   "cell_type": "code",
   "execution_count": 12,
   "metadata": {},
   "outputs": [
    {
     "data": {
      "text/plain": [
       "(1000, 3)"
      ]
     },
     "execution_count": 12,
     "metadata": {},
     "output_type": "execute_result"
    }
   ],
   "source": [
    "tinder_df.shape"
   ]
  },
  {
   "cell_type": "code",
   "execution_count": 13,
   "metadata": {},
   "outputs": [
    {
     "data": {
      "text/html": [
       "<div>\n",
       "<style scoped>\n",
       "    .dataframe tbody tr th:only-of-type {\n",
       "        vertical-align: middle;\n",
       "    }\n",
       "\n",
       "    .dataframe tbody tr th {\n",
       "        vertical-align: top;\n",
       "    }\n",
       "\n",
       "    .dataframe thead th {\n",
       "        text-align: right;\n",
       "    }\n",
       "</style>\n",
       "<table border=\"1\" class=\"dataframe\">\n",
       "  <thead>\n",
       "    <tr style=\"text-align: right;\">\n",
       "      <th></th>\n",
       "      <th>subreddit</th>\n",
       "      <th>selftext</th>\n",
       "      <th>title</th>\n",
       "    </tr>\n",
       "  </thead>\n",
       "  <tbody>\n",
       "    <tr>\n",
       "      <th>0</th>\n",
       "      <td>Tinder</td>\n",
       "      <td></td>\n",
       "      <td>Wish me luck bois!</td>\n",
       "    </tr>\n",
       "    <tr>\n",
       "      <th>1</th>\n",
       "      <td>Tinder</td>\n",
       "      <td></td>\n",
       "      <td>My sissy salve toys</td>\n",
       "    </tr>\n",
       "    <tr>\n",
       "      <th>2</th>\n",
       "      <td>Tinder</td>\n",
       "      <td>[removed]</td>\n",
       "      <td>400+ early Cyber Monday deals you can shop now</td>\n",
       "    </tr>\n",
       "    <tr>\n",
       "      <th>3</th>\n",
       "      <td>Tinder</td>\n",
       "      <td>[removed]</td>\n",
       "      <td>New to this</td>\n",
       "    </tr>\n",
       "    <tr>\n",
       "      <th>4</th>\n",
       "      <td>Tinder</td>\n",
       "      <td></td>\n",
       "      <td>You had me at ruin my life</td>\n",
       "    </tr>\n",
       "  </tbody>\n",
       "</table>\n",
       "</div>"
      ],
      "text/plain": [
       "  subreddit   selftext                                           title\n",
       "0    Tinder                                         Wish me luck bois!\n",
       "1    Tinder                                        My sissy salve toys\n",
       "2    Tinder  [removed]  400+ early Cyber Monday deals you can shop now\n",
       "3    Tinder  [removed]                                     New to this\n",
       "4    Tinder                                 You had me at ruin my life"
      ]
     },
     "execution_count": 13,
     "metadata": {},
     "output_type": "execute_result"
    }
   ],
   "source": [
    "tinder_df.head()"
   ]
  },
  {
   "cell_type": "markdown",
   "metadata": {},
   "source": [
    "## Combine both dataframes together/initial cleaning"
   ]
  },
  {
   "cell_type": "code",
   "execution_count": 14,
   "metadata": {},
   "outputs": [
    {
     "data": {
      "text/plain": [
       "(2000, 3)"
      ]
     },
     "execution_count": 14,
     "metadata": {},
     "output_type": "execute_result"
    }
   ],
   "source": [
    "dating = pd.concat([bumble_df, tinder_df])\n",
    "dating.shape"
   ]
  },
  {
   "cell_type": "code",
   "execution_count": 15,
   "metadata": {},
   "outputs": [
    {
     "data": {
      "text/plain": [
       "subreddit    0\n",
       "selftext     4\n",
       "title        0\n",
       "dtype: int64"
      ]
     },
     "execution_count": 15,
     "metadata": {},
     "output_type": "execute_result"
    }
   ],
   "source": [
    "dating.isna().sum()"
   ]
  },
  {
   "cell_type": "code",
   "execution_count": 16,
   "metadata": {},
   "outputs": [],
   "source": [
    "# Dropping because there are only 4\n",
    "dating.dropna(inplace= True)"
   ]
  },
  {
   "cell_type": "code",
   "execution_count": 17,
   "metadata": {},
   "outputs": [
    {
     "data": {
      "text/plain": [
       "(1996, 3)"
      ]
     },
     "execution_count": 17,
     "metadata": {},
     "output_type": "execute_result"
    }
   ],
   "source": [
    "dating.shape"
   ]
  },
  {
   "cell_type": "code",
   "execution_count": 18,
   "metadata": {},
   "outputs": [
    {
     "data": {
      "text/plain": [
       "subreddit       2\n",
       "selftext      582\n",
       "title        1916\n",
       "dtype: int64"
      ]
     },
     "execution_count": 18,
     "metadata": {},
     "output_type": "execute_result"
    }
   ],
   "source": [
    "dating.nunique()"
   ]
  },
  {
   "cell_type": "code",
   "execution_count": 19,
   "metadata": {},
   "outputs": [
    {
     "data": {
      "text/html": [
       "<div>\n",
       "<style scoped>\n",
       "    .dataframe tbody tr th:only-of-type {\n",
       "        vertical-align: middle;\n",
       "    }\n",
       "\n",
       "    .dataframe tbody tr th {\n",
       "        vertical-align: top;\n",
       "    }\n",
       "\n",
       "    .dataframe thead th {\n",
       "        text-align: right;\n",
       "    }\n",
       "</style>\n",
       "<table border=\"1\" class=\"dataframe\">\n",
       "  <thead>\n",
       "    <tr style=\"text-align: right;\">\n",
       "      <th></th>\n",
       "      <th>subreddit</th>\n",
       "      <th>selftext</th>\n",
       "      <th>title</th>\n",
       "    </tr>\n",
       "  </thead>\n",
       "  <tbody>\n",
       "    <tr>\n",
       "      <th>count</th>\n",
       "      <td>1996</td>\n",
       "      <td>1996</td>\n",
       "      <td>1996</td>\n",
       "    </tr>\n",
       "    <tr>\n",
       "      <th>unique</th>\n",
       "      <td>2</td>\n",
       "      <td>582</td>\n",
       "      <td>1916</td>\n",
       "    </tr>\n",
       "    <tr>\n",
       "      <th>top</th>\n",
       "      <td>Tinder</td>\n",
       "      <td></td>\n",
       "      <td>This is the newest project of him?</td>\n",
       "    </tr>\n",
       "    <tr>\n",
       "      <th>freq</th>\n",
       "      <td>999</td>\n",
       "      <td>1091</td>\n",
       "      <td>8</td>\n",
       "    </tr>\n",
       "  </tbody>\n",
       "</table>\n",
       "</div>"
      ],
      "text/plain": [
       "       subreddit selftext                               title\n",
       "count       1996     1996                                1996\n",
       "unique         2      582                                1916\n",
       "top       Tinder           This is the newest project of him?\n",
       "freq         999     1091                                   8"
      ]
     },
     "execution_count": 19,
     "metadata": {},
     "output_type": "execute_result"
    }
   ],
   "source": [
    "# Checking basics of df\n",
    "# Why are there only 582 unique 'self text' columns?\n",
    "dating.describe()"
   ]
  },
  {
   "cell_type": "code",
   "execution_count": 20,
   "metadata": {},
   "outputs": [
    {
     "data": {
      "text/plain": [
       "                                                                             0.546593\n",
       "[removed]                                                                    0.143788\n",
       "[deleted]                                                                    0.015030\n",
       "Please post any profile critique requests or advice posts in this thread.    0.002004\n",
       "Name: selftext, dtype: float64"
      ]
     },
     "execution_count": 20,
     "metadata": {},
     "output_type": "execute_result"
    }
   ],
   "source": [
    "# Get percentage occurance of top 4 most frequent 'selftext' values\n",
    "dating['selftext'].value_counts(normalize=True)[:4]"
   ]
  },
  {
   "cell_type": "code",
   "execution_count": 21,
   "metadata": {},
   "outputs": [
    {
     "data": {
      "text/plain": [
       "This is the newest project of him?                                                                  8\n",
       "AIs from AI Dungeon 2 to sexy to funny and one based wholly on Reddit!                              7\n",
       "23 I’m totally naked now, I’m also looking guys to meet up and fuck me hard add my kik:lilyroy67    5\n",
       "Redditors do be like that.                                                                          5\n",
       "Dating in 2020                                                                                      5\n",
       "Name: title, dtype: int64"
      ]
     },
     "execution_count": 21,
     "metadata": {},
     "output_type": "execute_result"
    }
   ],
   "source": [
    "dating['title'].value_counts()[:5]"
   ]
  },
  {
   "cell_type": "markdown",
   "metadata": {},
   "source": [
    "**Interpretation: Looks like ' ', [removed], [deleted] are the most common selftext. I'm going to combine the selftext and title columns.**"
   ]
  },
  {
   "cell_type": "code",
   "execution_count": 22,
   "metadata": {},
   "outputs": [],
   "source": [
    "# First, remove '[remove]' and '[deleted]'\n",
    "dating.replace({'selftext': {'[removed]': '', '[deleted]': ''}}, inplace=True)"
   ]
  },
  {
   "cell_type": "code",
   "execution_count": 23,
   "metadata": {},
   "outputs": [
    {
     "data": {
      "text/html": [
       "<div>\n",
       "<style scoped>\n",
       "    .dataframe tbody tr th:only-of-type {\n",
       "        vertical-align: middle;\n",
       "    }\n",
       "\n",
       "    .dataframe tbody tr th {\n",
       "        vertical-align: top;\n",
       "    }\n",
       "\n",
       "    .dataframe thead th {\n",
       "        text-align: right;\n",
       "    }\n",
       "</style>\n",
       "<table border=\"1\" class=\"dataframe\">\n",
       "  <thead>\n",
       "    <tr style=\"text-align: right;\">\n",
       "      <th></th>\n",
       "      <th>subreddit</th>\n",
       "      <th>selftext</th>\n",
       "      <th>title</th>\n",
       "      <th>combined</th>\n",
       "    </tr>\n",
       "  </thead>\n",
       "  <tbody>\n",
       "    <tr>\n",
       "      <th>0</th>\n",
       "      <td>Bumble</td>\n",
       "      <td>Things that make me swipe left on you without ...</td>\n",
       "      <td>Things that will make me swipe left on you wit...</td>\n",
       "      <td>Things that make me swipe left on you without ...</td>\n",
       "    </tr>\n",
       "    <tr>\n",
       "      <th>1</th>\n",
       "      <td>Bumble</td>\n",
       "      <td>If you’ve hit it off with a girl on Bumble, wo...</td>\n",
       "      <td>Men: Do you ever intentionally wait a couple d...</td>\n",
       "      <td>If you’ve hit it off with a girl on Bumble, wo...</td>\n",
       "    </tr>\n",
       "    <tr>\n",
       "      <th>2</th>\n",
       "      <td>Bumble</td>\n",
       "      <td>I haven’t gotten a single match since I downlo...</td>\n",
       "      <td>Would love some profile help!</td>\n",
       "      <td>I haven’t gotten a single match since I downlo...</td>\n",
       "    </tr>\n",
       "    <tr>\n",
       "      <th>3</th>\n",
       "      <td>Bumble</td>\n",
       "      <td></td>\n",
       "      <td>When to sleep with a dude from bumble?</td>\n",
       "      <td>When to sleep with a dude from bumble?</td>\n",
       "    </tr>\n",
       "    <tr>\n",
       "      <th>4</th>\n",
       "      <td>Bumble</td>\n",
       "      <td></td>\n",
       "      <td>No butt stuff? No existence</td>\n",
       "      <td>No butt stuff? No existence</td>\n",
       "    </tr>\n",
       "  </tbody>\n",
       "</table>\n",
       "</div>"
      ],
      "text/plain": [
       "  subreddit                                           selftext  \\\n",
       "0    Bumble  Things that make me swipe left on you without ...   \n",
       "1    Bumble  If you’ve hit it off with a girl on Bumble, wo...   \n",
       "2    Bumble  I haven’t gotten a single match since I downlo...   \n",
       "3    Bumble                                                      \n",
       "4    Bumble                                                      \n",
       "\n",
       "                                               title  \\\n",
       "0  Things that will make me swipe left on you wit...   \n",
       "1  Men: Do you ever intentionally wait a couple d...   \n",
       "2                      Would love some profile help!   \n",
       "3             When to sleep with a dude from bumble?   \n",
       "4                        No butt stuff? No existence   \n",
       "\n",
       "                                            combined  \n",
       "0  Things that make me swipe left on you without ...  \n",
       "1  If you’ve hit it off with a girl on Bumble, wo...  \n",
       "2  I haven’t gotten a single match since I downlo...  \n",
       "3             When to sleep with a dude from bumble?  \n",
       "4                        No butt stuff? No existence  "
      ]
     },
     "execution_count": 23,
     "metadata": {},
     "output_type": "execute_result"
    }
   ],
   "source": [
    "dating['combined'] = dating['selftext'] + ' ' + dating['title']\n",
    "dating.head()"
   ]
  },
  {
   "cell_type": "code",
   "execution_count": 24,
   "metadata": {},
   "outputs": [
    {
     "data": {
      "text/plain": [
       " This is the newest project of him?                                                                                                                                                                                                                                                                                                                                                                                                                                                                                                                                                                                                                                                                                                                                                                                                                                                                                                 8\n",
       " AIs from AI Dungeon 2 to sexy to funny and one based wholly on Reddit!                                                                                                                                                                                                                                                                                                                                                                                                                                                                                                                                                                                                                                                                                                                                                                                                                                                             7\n",
       " 23 I’m totally naked now, I’m also looking guys to meet up and fuck me hard add my kik:lilyroy67                                                                                                                                                                                                                                                                                                                                                                                                                                                                                                                                                                                                                                                                                                                                                                                                                                   5\n",
       " Redditors do be like that.                                                                                                                                                                                                                                                                                                                                                                                                                                                                                                                                                                                                                                                                                                                                                                                                                                                                                                         5\n",
       " Dating in 2020                                                                                                                                                                                                                                                                                                                                                                                                                                                                                                                                                                                                                                                                                                                                                                                                                                                                                                                     5\n",
       "Please post any profile critique requests or advice posts in this thread. Weekly Profile Critique                                                                                                                                                                                                                                                                                                                                                                                                                                                                                                                                                                                                                                                                                                                                                                                                                                   4\n",
       " But why?                                                                                                                                                                                                                                                                                                                                                                                                                                                                                                                                                                                                                                                                                                                                                                                                                                                                                                                           3\n",
       " Guess I gotta wear a raincoat                                                                                                                                                                                                                                                                                                                                                                                                                                                                                                                                                                                                                                                                                                                                                                                                                                                                                                      3\n",
       " When they send a gif as the first message                                                                                                                                                                                                                                                                                                                                                                                                                                                                                                                                                                                                                                                                                                                                                                                                                                                                                          3\n",
       " my bumble date got me in my feelings fr fr                                                                                                                                                                                                                                                                                                                                                                                                                                                                                                                                                                                                                                                                                                                                                                                                                                                                                         3\n",
       "I am developing an app to auto scan profiles on tinder. I am looking for beta testers, the app features the ability to identify fat/obese individuals to whom it will swipe left. It also works on things like skin and hair color. Tinder auto scanner                                                                                                                                                                                                                                                                                                                                                                                                                                                                                                                                                                                                                                                                             3\n",
       " Is this Bumble’s new way of showing you people unmatched you? 😂                                                                                                                                                                                                                                                                                                                                                                                                                                                                                                                                                                                                                                                                                                                                                                                                                                                                    2\n",
       " Happy Thanksgiving                                                                                                                                                                                                                                                                                                                                                                                                                                                                                                                                                                                                                                                                                                                                                                                                                                                                                                                 2\n",
       " Women feel really offended when asked to do more than the bare minimum when it comes to dating...                                                                                                                                                                                                                                                                                                                                                                                                                                                                                                                                                                                                                                                                                                                                                                                                                                  2\n",
       "It's easy to meet up in a park or some other outdoor space, so meeting up in itself is not the problem. The problem is the social distancing. If you can't get close to each other, touch, hug, kiss, etc., it is almost impossible to create the \"chemistry\" that people look for. How you interact with each other physically is so important in dating and that whole aspect is removed.\\n\\n\\nAre you really going to be satisfied just texting/phone calls etc until April?\\n\\nI’m saying April because the government has said things may be more back to normal by then and there’s talk of concerts/open air even returning around that time. Plus by April, the majority of high risk people will have had the vaccine.\\n\\nHow long can you go without physical interaction before it feels more like you are simply just friends rather than a couple? Why online dating is pointless during social distancing/Covid-19    2\n",
       " Matched up with a girl spreading the good word, can’t believe this failed                                                                                                                                                                                                                                                                                                                                                                                                                                                                                                                                                                                                                                                                                                                                                                                                                                                          2\n",
       " Oh the irony 😂                                                                                                                                                                                                                                                                                                                                                                                                                                                                                                                                                                                                                                                                                                                                                                                                                                                                                                                     2\n",
       " Now this is something unique...                                                                                                                                                                                                                                                                                                                                                                                                                                                                                                                                                                                                                                                                                                                                                                                                                                                                                                    2\n",
       " LEAKED: Matchmakers, Simps Hate This Free &amp; Easy Hack—JUICE Your WIN Rate with NWNT (Not Weird Normal Conversation)                                                                                                                                                                                                                                                                                                                                                                                                                                                                                                                                                                                                                                                                                                                                                                                                            2\n",
       " I Feel Like This Girl Exemplifies Everything Wrong with Online Dating                                                                                                                                                                                                                                                                                                                                                                                                                                                                                                                                                                                                                                                                                                                                                                                                                                                              2\n",
       "Name: combined, dtype: int64"
      ]
     },
     "execution_count": 24,
     "metadata": {},
     "output_type": "execute_result"
    }
   ],
   "source": [
    "# checking duplicates in combined column\n",
    "dating['combined'].value_counts()[:20]"
   ]
  },
  {
   "cell_type": "code",
   "execution_count": 25,
   "metadata": {},
   "outputs": [],
   "source": [
    "# decided to drop any duplicates in this column so it doesn't skew data\n",
    "dating.drop_duplicates(subset=['combined'], keep='first', inplace=True)"
   ]
  },
  {
   "cell_type": "code",
   "execution_count": 26,
   "metadata": {},
   "outputs": [
    {
     "data": {
      "text/plain": [
       " Ok Summer, ok                              1\n",
       " A surprise to be sure but a welcome one    1\n",
       " bloody piercings and spy kids              1\n",
       " RUN.                                       1\n",
       "Name: combined, dtype: int64"
      ]
     },
     "execution_count": 26,
     "metadata": {},
     "output_type": "execute_result"
    }
   ],
   "source": [
    "dating['combined'].value_counts()[:4]"
   ]
  },
  {
   "cell_type": "code",
   "execution_count": 101,
   "metadata": {},
   "outputs": [],
   "source": [
    "# create a word count column for 'selftext'\n",
    "dating['text_word_count'] = [len(combined.split()) for combined in dating['combined']]"
   ]
  },
  {
   "cell_type": "code",
   "execution_count": 102,
   "metadata": {},
   "outputs": [
    {
     "data": {
      "text/html": [
       "<div>\n",
       "<style scoped>\n",
       "    .dataframe tbody tr th:only-of-type {\n",
       "        vertical-align: middle;\n",
       "    }\n",
       "\n",
       "    .dataframe tbody tr th {\n",
       "        vertical-align: top;\n",
       "    }\n",
       "\n",
       "    .dataframe thead th {\n",
       "        text-align: right;\n",
       "    }\n",
       "</style>\n",
       "<table border=\"1\" class=\"dataframe\">\n",
       "  <thead>\n",
       "    <tr style=\"text-align: right;\">\n",
       "      <th></th>\n",
       "      <th>subreddit</th>\n",
       "      <th>selftext</th>\n",
       "      <th>title</th>\n",
       "      <th>combined</th>\n",
       "      <th>text_word_count</th>\n",
       "    </tr>\n",
       "  </thead>\n",
       "  <tbody>\n",
       "    <tr>\n",
       "      <th>0</th>\n",
       "      <td>Bumble</td>\n",
       "      <td>Things that make me swipe left on you without ...</td>\n",
       "      <td>Things that will make me swipe left on you wit...</td>\n",
       "      <td>Things that make me swipe left on you without ...</td>\n",
       "      <td>212</td>\n",
       "    </tr>\n",
       "    <tr>\n",
       "      <th>1</th>\n",
       "      <td>Bumble</td>\n",
       "      <td>If you’ve hit it off with a girl on Bumble, wo...</td>\n",
       "      <td>Men: Do you ever intentionally wait a couple d...</td>\n",
       "      <td>If you’ve hit it off with a girl on Bumble, wo...</td>\n",
       "      <td>60</td>\n",
       "    </tr>\n",
       "    <tr>\n",
       "      <th>2</th>\n",
       "      <td>Bumble</td>\n",
       "      <td>I haven’t gotten a single match since I downlo...</td>\n",
       "      <td>Would love some profile help!</td>\n",
       "      <td>I haven’t gotten a single match since I downlo...</td>\n",
       "      <td>30</td>\n",
       "    </tr>\n",
       "    <tr>\n",
       "      <th>3</th>\n",
       "      <td>Bumble</td>\n",
       "      <td></td>\n",
       "      <td>When to sleep with a dude from bumble?</td>\n",
       "      <td>When to sleep with a dude from bumble?</td>\n",
       "      <td>8</td>\n",
       "    </tr>\n",
       "    <tr>\n",
       "      <th>4</th>\n",
       "      <td>Bumble</td>\n",
       "      <td></td>\n",
       "      <td>No butt stuff? No existence</td>\n",
       "      <td>No butt stuff? No existence</td>\n",
       "      <td>5</td>\n",
       "    </tr>\n",
       "  </tbody>\n",
       "</table>\n",
       "</div>"
      ],
      "text/plain": [
       "  subreddit                                           selftext  \\\n",
       "0    Bumble  Things that make me swipe left on you without ...   \n",
       "1    Bumble  If you’ve hit it off with a girl on Bumble, wo...   \n",
       "2    Bumble  I haven’t gotten a single match since I downlo...   \n",
       "3    Bumble                                                      \n",
       "4    Bumble                                                      \n",
       "\n",
       "                                               title  \\\n",
       "0  Things that will make me swipe left on you wit...   \n",
       "1  Men: Do you ever intentionally wait a couple d...   \n",
       "2                      Would love some profile help!   \n",
       "3             When to sleep with a dude from bumble?   \n",
       "4                        No butt stuff? No existence   \n",
       "\n",
       "                                            combined  text_word_count  \n",
       "0  Things that make me swipe left on you without ...              212  \n",
       "1  If you’ve hit it off with a girl on Bumble, wo...               60  \n",
       "2  I haven’t gotten a single match since I downlo...               30  \n",
       "3             When to sleep with a dude from bumble?                8  \n",
       "4                        No butt stuff? No existence                5  "
      ]
     },
     "execution_count": 102,
     "metadata": {},
     "output_type": "execute_result"
    }
   ],
   "source": [
    "dating.head()"
   ]
  },
  {
   "cell_type": "code",
   "execution_count": 103,
   "metadata": {},
   "outputs": [
    {
     "data": {
      "text/plain": [
       "subreddit\n",
       "Bumble    51.873431\n",
       "Tinder    21.663793\n",
       "Name: text_word_count, dtype: float64"
      ]
     },
     "execution_count": 103,
     "metadata": {},
     "output_type": "execute_result"
    }
   ],
   "source": [
    "# view the different post lengths between the two subreddits\n",
    "dating.groupby('subreddit')['text_word_count'].mean()"
   ]
  },
  {
   "cell_type": "code",
   "execution_count": 108,
   "metadata": {},
   "outputs": [
    {
     "data": {
      "image/png": "[encoded data removed]",
      "text/plain": [
       "<Figure size 432x288 with 1 Axes>"
      ]
     },
     "metadata": {
      "needs_background": "light"
     },
     "output_type": "display_data"
    }
   ],
   "source": [
    "sns.histplot((dating.loc[dating['subreddit'] == 'Bumble'])['text_word_count'])\n",
    "plt.xlim(0,500)\n",
    "plt.ylim(0,450);"
   ]
  },
  {
   "cell_type": "code",
   "execution_count": 109,
   "metadata": {},
   "outputs": [
    {
     "name": "stderr",
     "output_type": "stream",
     "text": [
      "/Users/carlychamberlain/opt/anaconda3/envs/dsi/lib/python3.8/site-packages/seaborn/_decorators.py:36: FutureWarning: Pass the following variable as a keyword arg: x. From version 0.12, the only valid positional argument will be `data`, and passing other arguments without an explicit keyword will result in an error or misinterpretation.\n",
      "  warnings.warn(\n"
     ]
    },
    {
     "data": {
      "image/png": "[encoded data removed]",
      "text/plain": [
       "<Figure size 432x288 with 1 Axes>"
      ]
     },
     "metadata": {
      "needs_background": "light"
     },
     "output_type": "display_data"
    }
   ],
   "source": [
    "sns.boxplot((dating.loc[dating['subreddit'] == 'Bumble'])['text_word_count']);"
   ]
  },
  {
   "cell_type": "code",
   "execution_count": 123,
   "metadata": {},
   "outputs": [
    {
     "data": {
      "image/png": "[encoded data removed]",
      "text/plain": [
       "<Figure size 432x288 with 1 Axes>"
      ]
     },
     "metadata": {
      "needs_background": "light"
     },
     "output_type": "display_data"
    }
   ],
   "source": [
    "sns.histplot((dating.loc[dating['subreddit'] == 'Tinder'])['text_word_count'])\n",
    "plt.xlim(0,500)\n",
    "plt.ylim(0,450);"
   ]
  },
  {
   "cell_type": "code",
   "execution_count": 111,
   "metadata": {},
   "outputs": [
    {
     "name": "stderr",
     "output_type": "stream",
     "text": [
      "/Users/carlychamberlain/opt/anaconda3/envs/dsi/lib/python3.8/site-packages/seaborn/_decorators.py:36: FutureWarning: Pass the following variable as a keyword arg: x. From version 0.12, the only valid positional argument will be `data`, and passing other arguments without an explicit keyword will result in an error or misinterpretation.\n",
      "  warnings.warn(\n"
     ]
    },
    {
     "data": {
      "image/png": "[encoded data removed]",
      "text/plain": [
       "<Figure size 432x288 with 1 Axes>"
      ]
     },
     "metadata": {
      "needs_background": "light"
     },
     "output_type": "display_data"
    }
   ],
   "source": [
    "sns.boxplot((dating.loc[dating['subreddit'] == 'Tinder'])['text_word_count']);"
   ]
  },
  {
   "cell_type": "code",
   "execution_count": 112,
   "metadata": {},
   "outputs": [],
   "source": [
    "# drop every row that has 1000+ word count\n",
    "dating.drop(dating.loc[dating['text_word_count'] > 1000].index, inplace=True)"
   ]
  },
  {
   "cell_type": "code",
   "execution_count": 122,
   "metadata": {},
   "outputs": [
    {
     "data": {
      "image/png": "[encoded data removed]",
      "text/plain": [
       "<Figure size 864x432 with 1 Axes>"
      ]
     },
     "metadata": {
      "needs_background": "light"
     },
     "output_type": "display_data"
    }
   ],
   "source": [
    "# see what the charts look like layered\n",
    "# ref lab 5.02 review\n",
    "plt.figure(figsize=(12,6))\n",
    "sns.histplot((dating[dating['subreddit'] == 'Bumble'])['text_word_count'], label='Bumble', color = '#FFCB37')\n",
    "sns.histplot((dating[dating['subreddit'] == 'Tinder'])['text_word_count'], label = 'Tinder', color = '#FE3C72')\n",
    "plt.xlabel('Word Count', size = 12)\n",
    "plt.ylabel('Number of Posts')\n",
    "plt.xlim(0,500)\n",
    "plt.title('Distribution of word counts per post', size = 14)\n",
    "plt.legend()\n",
    "plt.savefig('./images/Dist_Word_Counts.png', dpi=300, bbox_inches='tight');"
   ]
  },
  {
   "cell_type": "code",
   "execution_count": 116,
   "metadata": {},
   "outputs": [
    {
     "data": {
      "text/plain": [
       "subreddit\n",
       "Bumble    51.873431\n",
       "Tinder    21.663793\n",
       "Name: text_word_count, dtype: float64"
      ]
     },
     "execution_count": 116,
     "metadata": {},
     "output_type": "execute_result"
    }
   ],
   "source": [
    "# view again after removing very large outliers\n",
    "dating.groupby('subreddit')['text_word_count'].mean()"
   ]
  },
  {
   "cell_type": "code",
   "execution_count": 118,
   "metadata": {},
   "outputs": [
    {
     "data": {
      "text/plain": [
       "subreddit\n",
       "Bumble    956\n",
       "Tinder    928\n",
       "Name: text_word_count, dtype: int64"
      ]
     },
     "execution_count": 118,
     "metadata": {},
     "output_type": "execute_result"
    }
   ],
   "source": [
    "dating.groupby('subreddit')['text_word_count'].count()"
   ]
  },
  {
   "cell_type": "markdown",
   "metadata": {},
   "source": [
    "**Interpretation: Interesting to see that Bumble tends to have 2x as long of posts as Tinder**"
   ]
  },
  {
   "cell_type": "code",
   "execution_count": 124,
   "metadata": {},
   "outputs": [],
   "source": [
    "# Save to csv\n",
    "dating.to_csv('dating.csv',index=False)"
   ]
  },
  {
   "cell_type": "code",
   "execution_count": null,
   "metadata": {},
   "outputs": [],
   "source": []
  }
 ],
 "metadata": {
  "kernelspec": {
   "display_name": "Python 3",
   "language": "python",
   "name": "python3"
  },
  "language_info": {
   "codemirror_mode": {
    "name": "ipython",
    "version": 3
   },
   "file_extension": ".py",
   "mimetype": "text/x-python",
   "name": "python",
   "nbconvert_exporter": "python",
   "pygments_lexer": "ipython3",
   "version": "3.8.3"
  }
 },
 "nbformat": 4,
 "nbformat_minor": 4
}
